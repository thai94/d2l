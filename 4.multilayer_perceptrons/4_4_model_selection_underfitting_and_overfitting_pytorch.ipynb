{
  "nbformat": 4,
  "nbformat_minor": 0,
  "metadata": {
    "colab": {
      "name": "4.4.model_selection_underfitting_and_overfitting_pytorch.ipynb",
      "provenance": [],
      "collapsed_sections": [],
      "authorship_tag": "ABX9TyPtaFQfhGXidflZU/XDVVkw",
      "include_colab_link": true
    },
    "kernelspec": {
      "name": "python3",
      "display_name": "Python 3"
    },
    "language_info": {
      "name": "python"
    }
  },
  "cells": [
    {
      "cell_type": "markdown",
      "metadata": {
        "id": "view-in-github",
        "colab_type": "text"
      },
      "source": [
        "<a href=\"https://colab.research.google.com/github/thai94/d2l/blob/main/4.multilayer_perceptrons/4_4_model_selection_underfitting_and_overfitting_pytorch.ipynb\" target=\"_parent\"><img src=\"https://colab.research.google.com/assets/colab-badge.svg\" alt=\"Open In Colab\"/></a>"
      ]
    },
    {
      "cell_type": "code",
      "execution_count": 154,
      "metadata": {
        "id": "g4w5t51hkeZO"
      },
      "outputs": [],
      "source": [
        "import math\n",
        "import numpy as np\n",
        "import torch\n",
        "from torch import nn\n",
        "import matplotlib.pyplot as plt\n",
        "from torch.utils import data as data"
      ]
    },
    {
      "cell_type": "code",
      "source": [
        "max_degree = 20\n",
        "n_train, n_test = 100, 100\n",
        "true_w = np.zeros(max_degree)\n",
        "true_w[0:4] = np.array([5, 1.2, -3.4, 5.6])\n",
        "\n",
        "features = np.random.normal(size=(n_train + n_test, 1))\n",
        "\n",
        "poly_features = np.power(features, np.arange(max_degree).reshape(1, -1))\n",
        "for i in range(max_degree):\n",
        "  poly_features[:, i] /= math.gamma(i + 1)\n",
        "\n",
        "labels = np.dot(poly_features, true_w)\n",
        "labels += np.random.normal(scale=0.1, size=labels.shape)"
      ],
      "metadata": {
        "id": "VMYSspV0lGPH"
      },
      "execution_count": 155,
      "outputs": []
    },
    {
      "cell_type": "code",
      "source": [
        "true_w, features, poly_features, labels = [torch.tensor(x, dtype=torch.float32) for x in [true_w, features, poly_features, labels]]"
      ],
      "metadata": {
        "id": "HF4jExqUslCK"
      },
      "execution_count": 156,
      "outputs": []
    },
    {
      "cell_type": "code",
      "source": [
        "poly_features.shape"
      ],
      "metadata": {
        "colab": {
          "base_uri": "https://localhost:8080/"
        },
        "id": "dyuN8Ypvzdvw",
        "outputId": "273c7e03-75a6-48f8-fea0-c77e632dd57f"
      },
      "execution_count": 157,
      "outputs": [
        {
          "output_type": "execute_result",
          "data": {
            "text/plain": [
              "torch.Size([200, 20])"
            ]
          },
          "metadata": {},
          "execution_count": 157
        }
      ]
    },
    {
      "cell_type": "code",
      "source": [
        "poly_features[0]"
      ],
      "metadata": {
        "colab": {
          "base_uri": "https://localhost:8080/"
        },
        "id": "05UjKCdR0zeU",
        "outputId": "34914079-e0d7-472a-e36d-1af680ad4e49"
      },
      "execution_count": 158,
      "outputs": [
        {
          "output_type": "execute_result",
          "data": {
            "text/plain": [
              "tensor([1.0000e+00, 3.7216e-01, 6.9252e-02, 8.5910e-03, 7.9931e-04, 5.9495e-05,\n",
              "        3.6903e-06, 1.9620e-07, 9.1272e-09, 3.7742e-10, 1.4046e-11, 4.7522e-13,\n",
              "        1.4738e-14, 4.2193e-16, 1.1216e-17, 2.7828e-19, 6.4728e-21, 1.4170e-22,\n",
              "        2.9298e-24, 5.7387e-26])"
            ]
          },
          "metadata": {},
          "execution_count": 158
        }
      ]
    },
    {
      "cell_type": "code",
      "source": [
        "labels.shape"
      ],
      "metadata": {
        "colab": {
          "base_uri": "https://localhost:8080/"
        },
        "id": "FpObmfkrzqcX",
        "outputId": "8ca676dc-5969-4fb6-c8cd-80263efbbf57"
      },
      "execution_count": 159,
      "outputs": [
        {
          "output_type": "execute_result",
          "data": {
            "text/plain": [
              "torch.Size([200])"
            ]
          },
          "metadata": {},
          "execution_count": 159
        }
      ]
    },
    {
      "cell_type": "code",
      "source": [
        "class Accumulator:\n",
        "  def __init__(self, n):\n",
        "    self.data = [0.0] * n\n",
        "  \n",
        "  def add(self, *args):\n",
        "    self.data = [a + float(b) for a,b in zip(self.data, args)]\n",
        "\n",
        "  def reset(self):\n",
        "    self.data = [0.0] * len(self.data)\n",
        "    \n",
        "  def __getitem__(self, idx):\n",
        "    return self.data[idx]"
      ],
      "metadata": {
        "id": "cV0OYB3xvlLG"
      },
      "execution_count": 160,
      "outputs": []
    },
    {
      "cell_type": "code",
      "source": [
        "def evaluate_loss(net, data_iter, loss):\n",
        "  metric = Accumulator(2)\n",
        "  for X, y in data_iter:\n",
        "    out = net(X)\n",
        "    y = y.reshape(out.shape)\n",
        "    l = loss(out, y)\n",
        "    metric.add(l.sum(), l.numel())\n",
        "  return metric[0] / metric[1]"
      ],
      "metadata": {
        "id": "zIc6sMEwsxjI"
      },
      "execution_count": 161,
      "outputs": []
    },
    {
      "cell_type": "code",
      "source": [
        "def load_array(data_arrays, batch_size, is_train=True):\n",
        "  dataset = data.TensorDataset(*data_arrays)\n",
        "  return data.DataLoader(dataset, batch_size, shuffle=is_train)"
      ],
      "metadata": {
        "id": "QkFy9Z5y16Vy"
      },
      "execution_count": 162,
      "outputs": []
    },
    {
      "cell_type": "code",
      "source": [
        "def train_epoch_ch3(net, train_iter, loss, updater):\n",
        "  for X, y in train_iter:\n",
        "    y_hat = net(X)\n",
        "    l = loss(y_hat, y)\n",
        "    if isinstance(updater, torch.optim.Optimizer):\n",
        "      updater.zero_grad()\n",
        "      l.sum().backward()\n",
        "      updater.step()\n",
        "    else:  \n",
        "      l.sum().backward()\n",
        "      updater(X.shape[0])"
      ],
      "metadata": {
        "id": "zcsDemh52_sF"
      },
      "execution_count": 163,
      "outputs": []
    },
    {
      "cell_type": "code",
      "source": [
        "def train(train_features, test_features, train_labels, test_labels, num_epochs=400):\n",
        "\n",
        "  loss = nn.MSELoss(reduction='none')\n",
        "  input_shape = train_features.shape[-1]\n",
        "  net = nn.Sequential(nn.Linear(input_shape, 1, bias=False))\n",
        "  batch_size = min(10, train_labels.shape[0])\n",
        "  train_iter = load_array((train_features, train_labels.reshape(-1,1)),\n",
        "                                batch_size)\n",
        "  test_iter = load_array((test_features, test_labels.reshape(-1,1)),\n",
        "                               batch_size, is_train=False)\n",
        "  trainer = torch.optim.SGD(net.parameters(), lr=0.01)\n",
        "\n",
        "  x = []\n",
        "  train_loss = []\n",
        "  test_loss = []\n",
        "  for epoch in range(num_epochs):\n",
        "    train_epoch_ch3(net, train_iter, loss, trainer)\n",
        "    if epoch == 0 or (epoch + 1) % 20 == 0:\n",
        "      x.append(epoch)\n",
        "      train_loss.append(evaluate_loss(net, train_iter, loss))\n",
        "      test_loss.append(evaluate_loss(net, test_iter, loss))\n",
        "\n",
        "  plt.plot(x, train_loss, 'r')\n",
        "  plt.plot(x, test_loss, 'b')\n",
        "  plt.show()"
      ],
      "metadata": {
        "id": "wuUIdMqrwCVz"
      },
      "execution_count": 164,
      "outputs": []
    },
    {
      "cell_type": "code",
      "source": [
        "train(poly_features[:n_train, :4], poly_features[n_train:, :4],\n",
        "      labels[:n_train], labels[n_train:])"
      ],
      "metadata": {
        "colab": {
          "base_uri": "https://localhost:8080/",
          "height": 264
        },
        "id": "xraB6bjU2_Qh",
        "outputId": "03c6023b-4b2d-4a17-a069-a5f8df933cdc"
      },
      "execution_count": 167,
      "outputs": [
        {
          "output_type": "display_data",
          "data": {
            "image/png": "[encoded data removed]",
            "text/plain": [
              "<Figure size 432x288 with 1 Axes>"
            ]
          },
          "metadata": {
            "needs_background": "light"
          }
        }
      ]
    },
    {
      "cell_type": "code",
      "source": [
        "train(poly_features[:n_train, :2], poly_features[n_train:, :2],\n",
        "      labels[:n_train], labels[n_train:])"
      ],
      "metadata": {
        "colab": {
          "base_uri": "https://localhost:8080/",
          "height": 264
        },
        "id": "K1ipZ6Zl5z3g",
        "outputId": "d705fcdb-9d75-4a01-ab45-79ccea23c988"
      },
      "execution_count": 168,
      "outputs": [
        {
          "output_type": "display_data",
          "data": {
            "image/png": "[encoded data removed]",
            "text/plain": [
              "<Figure size 432x288 with 1 Axes>"
            ]
          },
          "metadata": {
            "needs_background": "light"
          }
        }
      ]
    },
    {
      "cell_type": "code",
      "source": [
        "train(poly_features[:n_train, :], poly_features[n_train:, :],\n",
        "      labels[:n_train], labels[n_train:], num_epochs=1500)"
      ],
      "metadata": {
        "colab": {
          "base_uri": "https://localhost:8080/",
          "height": 264
        },
        "id": "ugypCsst5nph",
        "outputId": "da09346d-5ce2-4b3c-c766-ee3f039fb261"
      },
      "execution_count": 166,
      "outputs": [
        {
          "output_type": "display_data",
          "data": {
            "image/png": "[encoded data removed]",
            "text/plain": [
              "<Figure size 432x288 with 1 Axes>"
            ]
          },
          "metadata": {
            "needs_background": "light"
          }
        }
      ]
    }
  ]
}