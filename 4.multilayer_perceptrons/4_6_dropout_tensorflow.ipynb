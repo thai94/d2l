{
  "nbformat": 4,
  "nbformat_minor": 0,
  "metadata": {
    "colab": {
      "name": "4.6.\u001ddropout_tensorflow.ipynb",
      "provenance": [],
      "collapsed_sections": [],
      "authorship_tag": "ABX9TyNZK6ZGgPbvdXgUmgzRS53u",
      "include_colab_link": true
    },
    "kernelspec": {
      "name": "python3",
      "display_name": "Python 3"
    },
    "language_info": {
      "name": "python"
    }
  },
  "cells": [
    {
      "cell_type": "markdown",
      "metadata": {
        "id": "view-in-github",
        "colab_type": "text"
      },
      "source": [
        "<a href=\"https://colab.research.google.com/github/thai94/d2l/blob/main/4.multilayer_perceptrons/4_6_%1Ddropout_tensorflow.ipynb\" target=\"_parent\"><img src=\"https://colab.research.google.com/assets/colab-badge.svg\" alt=\"Open In Colab\"/></a>"
      ]
    },
    {
      "cell_type": "code",
      "execution_count": 23,
      "metadata": {
        "id": "rucsVwx5O1VI"
      },
      "outputs": [],
      "source": [
        "import tensorflow as tf\n",
        "import matplotlib.pyplot as plt"
      ]
    },
    {
      "cell_type": "code",
      "source": [
        "def dropout_layer(X, dropout):\n",
        "\n",
        "  if dropout == 1:\n",
        "    return tf.zeros_like(X)\n",
        "  \n",
        "  if dropout == 0:\n",
        "    return X\n",
        "  \n",
        "  mask = tf.random.uniform(shape=tf.shape(X), minval=0, maxval=1) > dropout\n",
        "  return tf.cast(mask, dtype=tf.float32) * X / (1.0 - dropout)"
      ],
      "metadata": {
        "id": "NzS-AxuOQRhS"
      },
      "execution_count": 24,
      "outputs": []
    },
    {
      "cell_type": "code",
      "source": [
        "X = tf.reshape(tf.range(16, dtype=tf.float32), (2, 8))\n",
        "print(X)\n",
        "print(dropout_layer(X, 0.))\n",
        "print(dropout_layer(X, 0.5))\n",
        "print(dropout_layer(X, 1.))"
      ],
      "metadata": {
        "colab": {
          "base_uri": "https://localhost:8080/"
        },
        "id": "0xaRSdWVRRxX",
        "outputId": "d1d565fa-6586-48b7-9ecd-218f1b012690"
      },
      "execution_count": 25,
      "outputs": [
        {
          "output_type": "stream",
          "name": "stdout",
          "text": [
            "tf.Tensor(\n",
            "[[ 0.  1.  2.  3.  4.  5.  6.  7.]\n",
            " [ 8.  9. 10. 11. 12. 13. 14. 15.]], shape=(2, 8), dtype=float32)\n",
            "tf.Tensor(\n",
            "[[ 0.  1.  2.  3.  4.  5.  6.  7.]\n",
            " [ 8.  9. 10. 11. 12. 13. 14. 15.]], shape=(2, 8), dtype=float32)\n",
            "tf.Tensor(\n",
            "[[ 0.  2.  4.  6.  8.  0. 12. 14.]\n",
            " [16.  0. 20.  0. 24.  0.  0.  0.]], shape=(2, 8), dtype=float32)\n",
            "tf.Tensor(\n",
            "[[0. 0. 0. 0. 0. 0. 0. 0.]\n",
            " [0. 0. 0. 0. 0. 0. 0. 0.]], shape=(2, 8), dtype=float32)\n"
          ]
        }
      ]
    },
    {
      "cell_type": "code",
      "source": [
        "num_outputs, num_hiddens1, num_hiddens2 = 10, 256, 256\n",
        "dropout1, dropout2 = 0.2, 0.5\n",
        "\n",
        "class Net(tf.keras.Model):\n",
        "\n",
        "  def __init__(self, num_outputs, num_hiddens1, num_hiddens2):\n",
        "    super().__init__()\n",
        "    self.input_layer = tf.keras.layers.Flatten()\n",
        "    self.hidden1 = tf.keras.layers.Dense(num_hiddens1, activation='relu')\n",
        "    self.hidden2 = tf.keras.layers.Dense(num_hiddens2, activation='relu')\n",
        "    self.output_layer = tf.keras.layers.Dense(num_outputs)\n",
        "\n",
        "  def call(self, inputs, training=None):\n",
        "\n",
        "    x = self.input_layer(inputs)\n",
        "    x = self.hidden1(x)\n",
        "    if training:\n",
        "      x = dropout_layer(x, dropout1)\n",
        "    x = self.hidden2(x)\n",
        "    if training:\n",
        "      x = dropout_layer(x, dropout2)\n",
        "    x = self.output_layer(x)\n",
        "    return x"
      ],
      "metadata": {
        "id": "t58Hs6CgRjmG"
      },
      "execution_count": 26,
      "outputs": []
    },
    {
      "cell_type": "code",
      "source": [
        "net = Net(num_outputs, num_hiddens1, num_hiddens2)"
      ],
      "metadata": {
        "id": "W5wd7SmBSud7"
      },
      "execution_count": 27,
      "outputs": []
    },
    {
      "cell_type": "code",
      "source": [
        "def load_data_fashion_mnist(batch_size, resize=None):\n",
        "    \"\"\"Download the Fashion-MNIST dataset and then load it into memory.\"\"\"\n",
        "    mnist_train, mnist_test = tf.keras.datasets.fashion_mnist.load_data()\n",
        "    # Divide all numbers by 255 so that all pixel values are between\n",
        "    # 0 and 1, add a batch dimension at the last. And cast label to int32\n",
        "    process = lambda X, y: (tf.expand_dims(X, axis=3) / 255,\n",
        "                            tf.cast(y, dtype='int32'))\n",
        "    resize_fn = lambda X, y: (\n",
        "        tf.image.resize_with_pad(X, resize, resize) if resize else X, y)\n",
        "    return (\n",
        "        tf.data.Dataset.from_tensor_slices(process(*mnist_train)).batch(\n",
        "            batch_size).shuffle(len(mnist_train[0])).map(resize_fn),\n",
        "        tf.data.Dataset.from_tensor_slices(process(*mnist_test)).batch(\n",
        "            batch_size).map(resize_fn))"
      ],
      "metadata": {
        "id": "UJ3qAw8xTvDF"
      },
      "execution_count": 28,
      "outputs": []
    },
    {
      "cell_type": "code",
      "source": [
        "class Accumulator:\n",
        "    \"\"\"For accumulating sums over `n` variables.\"\"\"\n",
        "    def __init__(self, n):\n",
        "        self.data = [0.0] * n\n",
        "\n",
        "    def add(self, *args):\n",
        "        self.data = [a + float(b) for a, b in zip(self.data, args)]\n",
        "\n",
        "    def reset(self):\n",
        "        self.data = [0.0] * len(self.data)\n",
        "\n",
        "    def __getitem__(self, idx):\n",
        "        return self.data[idx]"
      ],
      "metadata": {
        "id": "qq3ydVsVUWaI"
      },
      "execution_count": 29,
      "outputs": []
    },
    {
      "cell_type": "code",
      "source": [
        "def train_epoch_ch3(net, train_iter, loss, updater):\n",
        "    \"\"\"The training loop defined in Chapter 3.\"\"\"\n",
        "    # Sum of training loss, sum of training accuracy, no. of examples\n",
        "    metric = Accumulator(3)\n",
        "    for X, y in train_iter:\n",
        "        # Compute gradients and update parameters\n",
        "        with tf.GradientTape() as tape:\n",
        "            y_hat = net(X)\n",
        "            # Keras implementations for loss takes (labels, predictions)\n",
        "            # instead of (predictions, labels) that users might implement\n",
        "            # in this book, e.g. `cross_entropy` that we implemented above\n",
        "            if isinstance(loss, tf.keras.losses.Loss):\n",
        "                l = loss(y, y_hat)\n",
        "            else:\n",
        "                l = loss(y_hat, y)\n",
        "        if isinstance(updater, tf.keras.optimizers.Optimizer):\n",
        "            params = net.trainable_variables\n",
        "            grads = tape.gradient(l, params)\n",
        "            updater.apply_gradients(zip(grads, params))\n",
        "        else:\n",
        "            updater(X.shape[0], tape.gradient(l, updater.params))\n",
        "        # Keras loss by default returns the average loss in a batch\n",
        "        l_sum = l * float(tf.size(y)) if isinstance(\n",
        "            loss, tf.keras.losses.Loss) else tf.reduce_sum(l)\n",
        "        metric.add(l_sum, accuracy(y_hat, y), tf.size(y))\n",
        "    # Return training loss and training accuracy\n",
        "    return metric[0] / metric[2], metric[1] / metric[2]"
      ],
      "metadata": {
        "id": "JMIdI0ouT_x4"
      },
      "execution_count": 30,
      "outputs": []
    },
    {
      "cell_type": "code",
      "source": [
        "def accuracy(y_hat, y):\n",
        "    \"\"\"Compute the number of correct predictions.\"\"\"\n",
        "    if len(y_hat.shape) > 1 and y_hat.shape[1] > 1:\n",
        "        y_hat = tf.argmax(y_hat, axis=1)\n",
        "    cmp = tf.cast(y_hat, y.dtype) == y\n",
        "    return float(tf.reduce_sum(tf.cast(cmp, y.dtype)))"
      ],
      "metadata": {
        "id": "sO8E7bnhUdfx"
      },
      "execution_count": 31,
      "outputs": []
    },
    {
      "cell_type": "code",
      "source": [
        "def evaluate_accuracy(net, data_iter):\n",
        "    \"\"\"Compute the accuracy for a model on a dataset.\"\"\"\n",
        "    metric = Accumulator(2)  # No. of correct predictions, no. of predictions\n",
        "    for X, y in data_iter:\n",
        "        metric.add(accuracy(net(X), y), tf.size(y))\n",
        "    return metric[0] / metric[1]"
      ],
      "metadata": {
        "id": "ehpA8DwbURZ2"
      },
      "execution_count": 32,
      "outputs": []
    },
    {
      "cell_type": "code",
      "source": [
        "def train_ch3(net, train_iter, test_iter, loss, num_epochs, updater):\n",
        "    \"\"\"Train a model (defined in Chapter 3).\"\"\"\n",
        "    \n",
        "    x = []\n",
        "    train_accs = []\n",
        "    test_accs = []\n",
        "    for epoch in range(num_epochs):\n",
        "        train_metrics = train_epoch_ch3(net, train_iter, loss, updater)\n",
        "        test_acc = evaluate_accuracy(net, test_iter)\n",
        "\n",
        "        x.append(epoch)\n",
        "        train_accs.append(train_metrics[1])\n",
        "        test_accs.append(test_acc)\n",
        "        \n",
        "    plt.plot(x, train_accs, 'r')\n",
        "    plt.plot(x, test_accs, 'b')\n",
        "    plt.show()"
      ],
      "metadata": {
        "id": "_9EhR9eiT8Qq"
      },
      "execution_count": 33,
      "outputs": []
    },
    {
      "cell_type": "code",
      "source": [
        "num_epochs, lr, batch_size = 10, 0.5, 256\n",
        "loss = tf.keras.losses.SparseCategoricalCrossentropy(from_logits=True)\n",
        "train_iter, test_iter = load_data_fashion_mnist(batch_size)\n",
        "trainer = tf.keras.optimizers.SGD(learning_rate=lr)\n",
        "train_ch3(net, train_iter, test_iter, loss, num_epochs, trainer)"
      ],
      "metadata": {
        "colab": {
          "base_uri": "https://localhost:8080/",
          "height": 264
        },
        "id": "IWEkIfVISyeC",
        "outputId": "ce18682d-d448-4d8c-e6af-f3a6b3e6edd6"
      },
      "execution_count": 34,
      "outputs": [
        {
          "output_type": "display_data",
          "data": {
            "image/png": "[encoded data removed]",
            "text/plain": [
              "<Figure size 432x288 with 1 Axes>"
            ]
          },
          "metadata": {
            "needs_background": "light"
          }
        }
      ]
    }
  ]
}