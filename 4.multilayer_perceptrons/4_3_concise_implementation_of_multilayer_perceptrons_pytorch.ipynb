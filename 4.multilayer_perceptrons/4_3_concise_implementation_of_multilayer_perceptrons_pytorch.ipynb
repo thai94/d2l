{
  "nbformat": 4,
  "nbformat_minor": 0,
  "metadata": {
    "colab": {
      "name": "4.3.concise_implementation_of_multilayer_perceptrons_pytorch.ipynb",
      "provenance": [],
      "collapsed_sections": [],
      "authorship_tag": "ABX9TyOEUxJ/8UJu6aTJqBpZv9iZ",
      "include_colab_link": true
    },
    "kernelspec": {
      "name": "python3",
      "display_name": "Python 3"
    },
    "language_info": {
      "name": "python"
    }
  },
  "cells": [
    {
      "cell_type": "markdown",
      "metadata": {
        "id": "view-in-github",
        "colab_type": "text"
      },
      "source": [
        "<a href=\"https://colab.research.google.com/github/thai94/d2l/blob/main/4.multilayer_perceptrons/4_3_concise_implementation_of_multilayer_perceptrons_pytorch.ipynb\" target=\"_parent\"><img src=\"https://colab.research.google.com/assets/colab-badge.svg\" alt=\"Open In Colab\"/></a>"
      ]
    },
    {
      "cell_type": "code",
      "execution_count": 71,
      "metadata": {
        "id": "SH9JKkLMBtrJ"
      },
      "outputs": [],
      "source": [
        "import torch\n",
        "from torch import nn\n",
        "import torchvision\n",
        "from torch.utils import data\n",
        "from torchvision import transforms\n",
        "import torch.nn.functional as F"
      ]
    },
    {
      "cell_type": "code",
      "source": [
        "net = nn.Sequential(nn.Flatten(),\n",
        "                    nn.Linear(784, 256),\n",
        "                    nn.ReLU(),\n",
        "                    nn.Linear(256, 10))\n",
        "\n",
        "def init_weights(m):\n",
        "    if type(m) == nn.Linear:\n",
        "        nn.init.normal_(m.weight, std=0.1)\n",
        "\n",
        "net.apply(init_weights);"
      ],
      "metadata": {
        "id": "w_bu5xM8KKC8"
      },
      "execution_count": 72,
      "outputs": []
    },
    {
      "cell_type": "code",
      "source": [
        "batch_size, lr, num_epochs = 256, 0.01, 1\n",
        "loss = nn.CrossEntropyLoss(reduction='none')\n",
        "trainer = torch.optim.SGD(net.parameters(), lr=lr)"
      ],
      "metadata": {
        "id": "WBjXnSGCLJz6"
      },
      "execution_count": 73,
      "outputs": []
    },
    {
      "cell_type": "code",
      "source": [
        "def get_dataloader_workers():\n",
        "    \"\"\"Use 4 processes to read the data.\"\"\"\n",
        "    return 8\n",
        "\n",
        "def load_data_fashion_mnist(batch_size, resize=None):\n",
        "    \"\"\"Download the Fashion-MNIST dataset and then load it into memory.\"\"\"\n",
        "    trans = [transforms.ToTensor()]\n",
        "    if resize:\n",
        "        trans.insert(0, transforms.Resize(resize))\n",
        "    trans = transforms.Compose(trans)\n",
        "    mnist_train = torchvision.datasets.FashionMNIST(\n",
        "        root=\"../data\", train=True, transform=trans, download=True)\n",
        "    mnist_test = torchvision.datasets.FashionMNIST(\n",
        "        root=\"../data\", train=False, transform=trans, download=True)\n",
        "    return (data.DataLoader(mnist_train, batch_size, shuffle=True,\n",
        "                            num_workers=get_dataloader_workers()),\n",
        "            data.DataLoader(mnist_test, batch_size, shuffle=False,\n",
        "                            num_workers=get_dataloader_workers()))"
      ],
      "metadata": {
        "id": "CqZmB5SwMARH"
      },
      "execution_count": 74,
      "outputs": []
    },
    {
      "cell_type": "code",
      "source": [
        "class Accumulator:\n",
        "  def __init__(self, n):\n",
        "    self.data = [0.0] * n\n",
        "  \n",
        "  def add(self, *args):\n",
        "    self.data = [a + float(b) for a,b in zip(self.data, args)]\n",
        "\n",
        "  def reset(self):\n",
        "    self.data = [0.0] * len(self.data)\n",
        "    \n",
        "  def __getitem__(self, idx):\n",
        "    return self.data[idx]\n",
        "\n",
        "def accuracy(y_hat, y):\n",
        "  if len(y_hat.shape) > 1 and y_hat.shape[1] > 1:\n",
        "    y_hat = y_hat.argmax(axis=1)\n",
        "  cmp = y_hat.type(y.dtype) == y\n",
        "  return float(cmp.type(y.dtype).sum())\n",
        "\n",
        "def evaluate_accuracy(net, data_iter):\n",
        "  metric = Accumulator(2)\n",
        "  with torch.no_grad():\n",
        "    for X, y in data_iter:\n",
        "      metric.add(accuracy(net(X), y), y.numel())\n",
        "  return metric[0] / metric[1]\n",
        "\n",
        "\n",
        "def train_epoch_ch3(net, train_iter, loss, updater):\n",
        "  metric = Accumulator(3)\n",
        "  for X, y in train_iter:\n",
        "    y_hat = net(X)\n",
        "    l = loss(y_hat, y)\n",
        "    if isinstance(updater, torch.optim.Optimizer):\n",
        "      updater.zero_grad()\n",
        "      l.mean().backward()\n",
        "      updater.step()\n",
        "    else:  \n",
        "      l.sum().backward()\n",
        "      updater(X.shape[0])\n",
        "  metric.add(float(l.sum()), accuracy(y_hat, y), y.numel())\n",
        "  return metric[0] / metric[2], metric[1] / metric[2]\n",
        "\n",
        "def train_ch3(net, train_iter, test_iter, loss, num_epochs, updater):\n",
        "\n",
        "  for epoch in range(num_epochs):\n",
        "    train_metrics = train_epoch_ch3(net, train_iter, loss, updater)\n",
        "    test_acc = evaluate_accuracy(net, test_iter)\n",
        "    print('epoch: %s' % epoch)\n",
        "    print(train_metrics)\n",
        "    print(test_acc)"
      ],
      "metadata": {
        "id": "QCWFciZsOPCb"
      },
      "execution_count": 75,
      "outputs": []
    },
    {
      "cell_type": "code",
      "source": [
        "train_iter, test_iter = load_data_fashion_mnist(batch_size)\n",
        "train_ch3(net, train_iter, test_iter, loss, num_epochs, trainer)"
      ],
      "metadata": {
        "colab": {
          "base_uri": "https://localhost:8080/"
        },
        "id": "QdC27gt0L4Uy",
        "outputId": "edfeacb3-088a-435c-c6be-f604dcf71bbf"
      },
      "execution_count": 76,
      "outputs": [
        {
          "output_type": "stream",
          "name": "stderr",
          "text": [
            "/usr/local/lib/python3.7/dist-packages/torch/utils/data/dataloader.py:481: UserWarning: This DataLoader will create 8 worker processes in total. Our suggested max number of worker in current system is 2, which is smaller than what this DataLoader is going to create. Please be aware that excessive worker creation might get DataLoader running slow or even freeze, lower the worker number to avoid potential slowness/freeze if necessary.\n",
            "  cpuset_checked))\n"
          ]
        },
        {
          "output_type": "stream",
          "name": "stdout",
          "text": [
            "epoch: 0\n",
            "(2.3006641070048013, 0.11458333333333333)\n",
            "0.1005\n"
          ]
        }
      ]
    }
  ]
}