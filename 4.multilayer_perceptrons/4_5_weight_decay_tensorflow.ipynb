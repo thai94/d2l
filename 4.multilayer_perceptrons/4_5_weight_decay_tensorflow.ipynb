{
  "nbformat": 4,
  "nbformat_minor": 0,
  "metadata": {
    "colab": {
      "name": "4.5.weight_decay_tensorflow.ipynb",
      "provenance": [],
      "collapsed_sections": [],
      "authorship_tag": "ABX9TyMt8JFXs4Z9zWRTLDmT/Lpu",
      "include_colab_link": true
    },
    "kernelspec": {
      "name": "python3",
      "display_name": "Python 3"
    },
    "language_info": {
      "name": "python"
    }
  },
  "cells": [
    {
      "cell_type": "markdown",
      "metadata": {
        "id": "view-in-github",
        "colab_type": "text"
      },
      "source": [
        "<a href=\"https://colab.research.google.com/github/thai94/d2l/blob/main/4.multilayer_perceptrons/4_5_weight_decay_tensorflow.ipynb\" target=\"_parent\"><img src=\"https://colab.research.google.com/assets/colab-badge.svg\" alt=\"Open In Colab\"/></a>"
      ]
    },
    {
      "cell_type": "code",
      "execution_count": 94,
      "metadata": {
        "id": "MkjMJO6Hkcix"
      },
      "outputs": [],
      "source": [
        "import tensorflow as tf\n",
        "import matplotlib.pyplot as plt"
      ]
    },
    {
      "cell_type": "code",
      "source": [
        "def synthetic_data(w, b, num_examples):\n",
        "    \"\"\"Generate y = Xw + b + noise.\"\"\"\n",
        "    X = tf.zeros((num_examples, w.shape[0]))\n",
        "    X += tf.random.normal(shape=X.shape)\n",
        "    y = tf.matmul(X, tf.reshape(w, (-1, 1))) + b\n",
        "    y += tf.random.normal(shape=y.shape, stddev=0.01)\n",
        "    y = tf.reshape(y, (-1, 1))\n",
        "    return X, y"
      ],
      "metadata": {
        "id": "11fLr55glvJU"
      },
      "execution_count": 95,
      "outputs": []
    },
    {
      "cell_type": "code",
      "source": [
        "def load_array(data_arrays, batch_size, is_train=True):\n",
        "    \"\"\"Construct a TensorFlow data iterator.\"\"\"\n",
        "    dataset = tf.data.Dataset.from_tensor_slices(data_arrays)\n",
        "    if is_train:\n",
        "        dataset = dataset.shuffle(buffer_size=1000)\n",
        "    dataset = dataset.batch(batch_size)\n",
        "    return dataset"
      ],
      "metadata": {
        "id": "FTgQiOC4mDmi"
      },
      "execution_count": 96,
      "outputs": []
    },
    {
      "cell_type": "code",
      "source": [
        "n_train, n_test, num_inputs, batch_size = 20, 100, 200, 5\n",
        "true_w, true_b = tf.ones((num_inputs, 1)) * 0.01, 0.05\n",
        "train_data = synthetic_data(true_w, true_b, n_train)\n",
        "train_iter = load_array(train_data, batch_size)\n",
        "test_data = synthetic_data(true_w, true_b, n_test)\n",
        "test_iter = load_array(test_data, batch_size, is_train=False)"
      ],
      "metadata": {
        "id": "YcVzDfv5lOrn"
      },
      "execution_count": 97,
      "outputs": []
    },
    {
      "cell_type": "code",
      "source": [
        "def init_params():\n",
        "  \n",
        "  w = tf.Variable(tf.random.normal(mean=1, shape=(num_inputs, 1)))\n",
        "  b = tf.Variable(tf.zeros(shape=(1,)))\n",
        "  return [w, b]"
      ],
      "metadata": {
        "id": "WbYEXNxgmQD0"
      },
      "execution_count": 98,
      "outputs": []
    },
    {
      "cell_type": "code",
      "source": [
        "def l2_penalty(w):\n",
        "  return tf.reduce_sum(tf.pow(w, 2)) / 2"
      ],
      "metadata": {
        "id": "FDJn9JFznEJ8"
      },
      "execution_count": 99,
      "outputs": []
    },
    {
      "cell_type": "code",
      "source": [
        "def linreg(X, w, b):\n",
        "    \"\"\"The linear regression model.\"\"\"\n",
        "    return tf.matmul(X, w) + b"
      ],
      "metadata": {
        "id": "lsLpZKEEnmH0"
      },
      "execution_count": 100,
      "outputs": []
    },
    {
      "cell_type": "code",
      "source": [
        "def squared_loss(y_hat, y):\n",
        "    \"\"\"Squared loss.\"\"\"\n",
        "    return (y_hat - tf.reshape(y, y_hat.shape)) ** 2 / 2"
      ],
      "metadata": {
        "id": "5h6_UWOKnnM6"
      },
      "execution_count": 101,
      "outputs": []
    },
    {
      "cell_type": "code",
      "source": [
        "def sgd(params, grads, lr, batch_size):\n",
        "    \"\"\"Minibatch stochastic gradient descent.\"\"\"\n",
        "    for param, grad in zip(params, grads):\n",
        "        param.assign_sub(lr*grad/batch_size)"
      ],
      "metadata": {
        "id": "L3cQfS9dn6v3"
      },
      "execution_count": 102,
      "outputs": []
    },
    {
      "cell_type": "code",
      "source": [
        "class Accumulator:\n",
        "    \"\"\"For accumulating sums over `n` variables.\"\"\"\n",
        "    def __init__(self, n):\n",
        "        self.data = [0.0] * n\n",
        "\n",
        "    def add(self, *args):\n",
        "        self.data = [a + float(b) for a, b in zip(self.data, args)]\n",
        "\n",
        "    def reset(self):\n",
        "        self.data = [0.0] * len(self.data)\n",
        "\n",
        "    def __getitem__(self, idx):\n",
        "        return self.data[idx]"
      ],
      "metadata": {
        "id": "1hW5RfN1oRdy"
      },
      "execution_count": 103,
      "outputs": []
    },
    {
      "cell_type": "code",
      "source": [
        "def evaluate_loss(net, data_iter, loss):\n",
        "    \"\"\"Evaluate the loss of a model on the given dataset.\"\"\"\n",
        "    metric = Accumulator(2)  # Sum of losses, no. of examples\n",
        "    for X, y in data_iter:\n",
        "        l = loss(net(X), y)\n",
        "        metric.add(tf.reduce_sum(l), tf.size(l))\n",
        "    return metric[0] / metric[1]"
      ],
      "metadata": {
        "id": "5703yp9doLJn"
      },
      "execution_count": 104,
      "outputs": []
    },
    {
      "cell_type": "code",
      "source": [
        "def train(lambd):\n",
        "  w, b = init_params()\n",
        "  net, loss = lambda X: linreg(X, w, b), squared_loss\n",
        "  num_epochs, lr = 100, 0.003\n",
        "\n",
        "  x = []\n",
        "  train_loss = []\n",
        "  test_loss = []\n",
        "  for epoch in range(num_epochs):\n",
        "    for X, y in train_iter:\n",
        "      with tf.GradientTape() as tape:\n",
        "          l = loss(net(X), y) + lambd * l2_penalty(w)\n",
        "      grads = tape.gradient(l, [w, b])\n",
        "      sgd([w, b], grads, lr, batch_size)\n",
        "    if (epoch + 1) % 5 == 0:\n",
        "      x.append(epoch)\n",
        "      train_loss.append(evaluate_loss(net, train_iter, loss))\n",
        "      test_loss.append(evaluate_loss(net, test_iter, loss))\n",
        "  plt.plot(x, train_loss, 'r')\n",
        "  plt.plot(x, test_loss, 'b')\n",
        "  plt.show()"
      ],
      "metadata": {
        "id": "ciqZ-EyLnVJh"
      },
      "execution_count": 105,
      "outputs": []
    },
    {
      "cell_type": "code",
      "source": [
        "train(lambd=0)"
      ],
      "metadata": {
        "colab": {
          "base_uri": "https://localhost:8080/",
          "height": 264
        },
        "id": "Tgkwv6P3oamL",
        "outputId": "ebae1614-c356-4c61-8b1e-f8ab6829a9d1"
      },
      "execution_count": 106,
      "outputs": [
        {
          "output_type": "display_data",
          "data": {
            "image/png": "[encoded data removed]",
            "text/plain": [
              "<Figure size 432x288 with 1 Axes>"
            ]
          },
          "metadata": {
            "needs_background": "light"
          }
        }
      ]
    },
    {
      "cell_type": "code",
      "source": [
        "train(lambd=3)"
      ],
      "metadata": {
        "colab": {
          "base_uri": "https://localhost:8080/",
          "height": 264
        },
        "id": "BL-fc4G6of4L",
        "outputId": "ffb5eaa0-87f8-49e6-dad3-9e5bb32ebef6"
      },
      "execution_count": 107,
      "outputs": [
        {
          "output_type": "display_data",
          "data": {
            "image/png": "[encoded data removed]",
            "text/plain": [
              "<Figure size 432x288 with 1 Axes>"
            ]
          },
          "metadata": {
            "needs_background": "light"
          }
        }
      ]
    },
    {
      "cell_type": "code",
      "source": [
        "def train_concise(wd):\n",
        "   net = tf.keras.models.Sequential()\n",
        "   net.add(tf.keras.layers.Dense(\n",
        "        1, kernel_regularizer=tf.keras.regularizers.l2(wd)))\n",
        "   net.build(input_shape=(1, num_inputs))\n",
        "   w, b = net.trainable_variables\n",
        "   loss = tf.keras.losses.MeanSquaredError()\n",
        "   num_epochs, lr = 100, 0.003\n",
        "   trainer = tf.keras.optimizers.SGD(learning_rate=lr)\n",
        "\n",
        "   x = []\n",
        "   train_loss = []\n",
        "   test_loss = []\n",
        "   for epoch in range(num_epochs):\n",
        "     for X, y in train_iter:\n",
        "       with tf.GradientTape() as tape:\n",
        "         l = loss(net(X), y) + net.losses\n",
        "       grads = tape.gradient(l, net.trainable_variables)\n",
        "       trainer.apply_gradients(zip(grads, net.trainable_variables))\n",
        "     if (epoch + 1) % 5 == 0:\n",
        "       x.append(epoch)\n",
        "       train_loss.append(evaluate_loss(net, train_iter, loss))\n",
        "       test_loss.append(evaluate_loss(net, test_iter, loss))\n",
        "   plt.plot(x, train_loss, 'r')\n",
        "   plt.plot(x, test_loss, 'b')\n",
        "   plt.show()"
      ],
      "metadata": {
        "id": "Ay_AqwfNokZg"
      },
      "execution_count": 108,
      "outputs": []
    },
    {
      "cell_type": "code",
      "source": [
        "train(lambd=0)"
      ],
      "metadata": {
        "colab": {
          "base_uri": "https://localhost:8080/",
          "height": 264
        },
        "id": "IvXb3zuNqe1U",
        "outputId": "4dec5c17-a4f0-4ecc-f008-f74db0185063"
      },
      "execution_count": 109,
      "outputs": [
        {
          "output_type": "display_data",
          "data": {
            "image/png": "[encoded data removed]",
            "text/plain": [
              "<Figure size 432x288 with 1 Axes>"
            ]
          },
          "metadata": {
            "needs_background": "light"
          }
        }
      ]
    },
    {
      "cell_type": "code",
      "source": [
        "train_concise(3)"
      ],
      "metadata": {
        "colab": {
          "base_uri": "https://localhost:8080/",
          "height": 267
        },
        "id": "xKO4tFxLqo4c",
        "outputId": "c514ea0e-7dc1-4e51-fb5b-214f6fe06ef8"
      },
      "execution_count": 110,
      "outputs": [
        {
          "output_type": "display_data",
          "data": {
            "image/png": "[encoded data removed]",
            "text/plain": [
              "<Figure size 432x288 with 1 Axes>"
            ]
          },
          "metadata": {
            "needs_background": "light"
          }
        }
      ]
    }
  ]
}