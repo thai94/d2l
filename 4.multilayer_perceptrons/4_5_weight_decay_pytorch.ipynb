{
  "nbformat": 4,
  "nbformat_minor": 0,
  "metadata": {
    "colab": {
      "name": "4.5.weight_decay_pytorch.ipynb",
      "provenance": [],
      "collapsed_sections": [],
      "authorship_tag": "ABX9TyP3eHb++km4IVSgax6rb/+a",
      "include_colab_link": true
    },
    "kernelspec": {
      "name": "python3",
      "display_name": "Python 3"
    },
    "language_info": {
      "name": "python"
    }
  },
  "cells": [
    {
      "cell_type": "markdown",
      "metadata": {
        "id": "view-in-github",
        "colab_type": "text"
      },
      "source": [
        "<a href=\"https://colab.research.google.com/github/thai94/d2l/blob/main/4.multilayer_perceptrons/4_5_weight_decay_pytorch.ipynb\" target=\"_parent\"><img src=\"https://colab.research.google.com/assets/colab-badge.svg\" alt=\"Open In Colab\"/></a>"
      ]
    },
    {
      "cell_type": "code",
      "execution_count": 110,
      "metadata": {
        "id": "ym6SxthGprVt"
      },
      "outputs": [],
      "source": [
        "import torch\n",
        "from torch import nn\n",
        "import matplotlib.pyplot as plt\n",
        "from torch.utils import data as data"
      ]
    },
    {
      "cell_type": "code",
      "source": [
        "def synthetic_data(w, b, num_examples):\n",
        "    \"\"\"Generate y = Xw + b + noise.\"\"\"\n",
        "    X = torch.normal(0, 1, (num_examples, len(w)))\n",
        "    y = torch.matmul(X, w) + b\n",
        "    y += torch.normal(0, 0.01, y.shape)\n",
        "    return X, y.reshape((-1, 1))"
      ],
      "metadata": {
        "id": "32UwE4MMtCXe"
      },
      "execution_count": 111,
      "outputs": []
    },
    {
      "cell_type": "code",
      "source": [
        "def load_array(data_arrays, batch_size, is_train=True):\n",
        "  dataset = data.TensorDataset(*data_arrays)\n",
        "  return data.DataLoader(dataset, batch_size, shuffle=is_train)"
      ],
      "metadata": {
        "id": "F9tR9c8Et9iw"
      },
      "execution_count": 112,
      "outputs": []
    },
    {
      "cell_type": "code",
      "source": [
        "n_train, n_test, num_inputs, batch_size = 20, 100, 200, 5\n",
        "true_w, true_b = torch.ones((num_inputs, 1)) * 0.01, 0.05\n",
        "train_data = synthetic_data(true_w, true_b, n_train)\n",
        "train_iter = load_array(train_data, batch_size)\n",
        "test_data = synthetic_data(true_w, true_b, n_test)\n",
        "test_iter = load_array(test_data, batch_size, is_train=False)"
      ],
      "metadata": {
        "id": "i_vMDLPOsWtM"
      },
      "execution_count": 113,
      "outputs": []
    },
    {
      "cell_type": "code",
      "source": [
        "def init_params():\n",
        "    w = torch.normal(0, 1, size=(num_inputs, 1), requires_grad=True)\n",
        "    b = torch.zeros(1, requires_grad=True)\n",
        "    return [w, b]"
      ],
      "metadata": {
        "id": "Nc0xU5hauOnr"
      },
      "execution_count": 114,
      "outputs": []
    },
    {
      "cell_type": "code",
      "source": [
        "def l2_penalty(w):\n",
        "  return torch.sum(w.pow(2)) / 2.0"
      ],
      "metadata": {
        "id": "vopmWQwguPJb"
      },
      "execution_count": 115,
      "outputs": []
    },
    {
      "cell_type": "code",
      "source": [
        "def linreg(X, w, b):\n",
        "    \"\"\"The linear regression model.\"\"\"\n",
        "    return torch.matmul(X, w) + b"
      ],
      "metadata": {
        "id": "WH6VGfzKu3lE"
      },
      "execution_count": 116,
      "outputs": []
    },
    {
      "cell_type": "code",
      "source": [
        "def squared_loss(y_hat, y):\n",
        "    \"\"\"Squared loss.\"\"\"\n",
        "    return (y_hat - y.reshape(y_hat.shape)) ** 2 / 2"
      ],
      "metadata": {
        "id": "1GA1K1Zxu5LX"
      },
      "execution_count": 117,
      "outputs": []
    },
    {
      "cell_type": "code",
      "source": [
        "def sgd(params, lr, batch_size):\n",
        "    \"\"\"Minibatch stochastic gradient descent.\"\"\"\n",
        "    with torch.no_grad():\n",
        "        for param in params:\n",
        "            param -= lr * param.grad / batch_size\n",
        "            param.grad.zero_()"
      ],
      "metadata": {
        "id": "l4F7jVj_wOGg"
      },
      "execution_count": 118,
      "outputs": []
    },
    {
      "cell_type": "code",
      "source": [
        "class Accumulator:\n",
        "  def __init__(self, n):\n",
        "    self.data = [0.0] * n\n",
        "  \n",
        "  def add(self, *args):\n",
        "    self.data = [a + float(b) for a,b in zip(self.data, args)]\n",
        "\n",
        "  def reset(self):\n",
        "    self.data = [0.0] * len(self.data)\n",
        "    \n",
        "  def __getitem__(self, idx):\n",
        "    return self.data[idx]"
      ],
      "metadata": {
        "id": "Qk7Q4zfCxNiW"
      },
      "execution_count": 119,
      "outputs": []
    },
    {
      "cell_type": "code",
      "source": [
        "def evaluate_loss(net, data_iter, loss):\n",
        "  metric = Accumulator(2)\n",
        "  for X, y in data_iter:\n",
        "    out = net(X)\n",
        "    y = y.reshape(out.shape)\n",
        "    l = loss(out, y)\n",
        "    metric.add(l.sum(), l.numel())\n",
        "  return metric[0] / metric[1]"
      ],
      "metadata": {
        "id": "56DXVkJyxM-g"
      },
      "execution_count": 120,
      "outputs": []
    },
    {
      "cell_type": "code",
      "source": [
        "w, b = init_params()\n",
        "def train(lambd):\n",
        "  net, loss = lambda X: linreg(X, w, b), squared_loss\n",
        "  num_epochs, lr = 100, 0.003\n",
        "\n",
        "  x = []\n",
        "  train_loss = []\n",
        "  test_loss = []\n",
        "  for epoch in range(num_epochs):\n",
        "    for X, y in train_iter:\n",
        "      l = loss(net(X), y) + lambd * l2_penalty(w)\n",
        "      l.sum().backward()\n",
        "      sgd([w, b], lr, batch_size)\n",
        "    if (epoch + 1) % 5 == 0:\n",
        "      x.append(epoch)\n",
        "      train_loss.append(evaluate_loss(net, train_iter, loss))\n",
        "      test_loss.append(evaluate_loss(net, test_iter, loss))\n",
        "  plt.plot(x, train_loss, 'r')\n",
        "  plt.plot(x, test_loss, 'b')\n",
        "  plt.show()"
      ],
      "metadata": {
        "id": "Z_FLxEZFuovJ"
      },
      "execution_count": 121,
      "outputs": []
    },
    {
      "cell_type": "code",
      "source": [
        "train(lambd=0)"
      ],
      "metadata": {
        "colab": {
          "base_uri": "https://localhost:8080/",
          "height": 264
        },
        "id": "YiF1Cx55xVf_",
        "outputId": "2fd89a19-1466-4622-ad13-6f0639026c36"
      },
      "execution_count": 122,
      "outputs": [
        {
          "output_type": "display_data",
          "data": {
            "image/png": "[encoded data removed]",
            "text/plain": [
              "<Figure size 432x288 with 1 Axes>"
            ]
          },
          "metadata": {
            "needs_background": "light"
          }
        }
      ]
    },
    {
      "cell_type": "code",
      "source": [
        "train(lambd=0.5)"
      ],
      "metadata": {
        "colab": {
          "base_uri": "https://localhost:8080/",
          "height": 264
        },
        "id": "_1EZwvd4xsxU",
        "outputId": "8aa42b81-6406-4269-ae69-e3ee48a5ea78"
      },
      "execution_count": 123,
      "outputs": [
        {
          "output_type": "display_data",
          "data": {
            "image/png": "[encoded data removed]",
            "text/plain": [
              "<Figure size 432x288 with 1 Axes>"
            ]
          },
          "metadata": {
            "needs_background": "light"
          }
        }
      ]
    },
    {
      "cell_type": "code",
      "source": [
        "def train_concise(wd):\n",
        "\n",
        "  net = nn.Sequential(nn.Linear(num_inputs, 1))\n",
        "  for param in net.parameters():\n",
        "    param.data.normal_()\n",
        "  loss = nn.MSELoss(reduction='none')\n",
        "  num_epochs, lr = 100, 0.003\n",
        "  trainer = torch.optim.SGD([{\"params\": net[0].weight, 'weight_decay': wd}, {\"params\": net[0].bias}], lr=lr)\n",
        "  x = []\n",
        "  train_loss = []\n",
        "  test_loss = []\n",
        "  for epoch in range(num_epochs):\n",
        "    for X, y in train_iter:\n",
        "      trainer.zero_grad()\n",
        "      l = loss(net(X), y)\n",
        "      l.mean().backward()\n",
        "      trainer.step()\n",
        "    if (epoch + 1) % 5 == 0:\n",
        "      x.append(epoch)\n",
        "      train_loss.append(evaluate_loss(net, train_iter, loss))\n",
        "      test_loss.append(evaluate_loss(net, test_iter, loss))\n",
        "  plt.plot(x, train_loss, 'r')\n",
        "  plt.plot(x, test_loss, 'b')\n",
        "  plt.show()"
      ],
      "metadata": {
        "id": "OHveY1oJ3atl"
      },
      "execution_count": 124,
      "outputs": []
    },
    {
      "cell_type": "code",
      "source": [
        "train_concise(0)"
      ],
      "metadata": {
        "colab": {
          "base_uri": "https://localhost:8080/",
          "height": 264
        },
        "id": "meKl_wmI8DiY",
        "outputId": "173e4bf7-7497-4e31-c8da-22c140704e1c"
      },
      "execution_count": 125,
      "outputs": [
        {
          "output_type": "display_data",
          "data": {
            "image/png": "[encoded data removed]",
            "text/plain": [
              "<Figure size 432x288 with 1 Axes>"
            ]
          },
          "metadata": {
            "needs_background": "light"
          }
        }
      ]
    },
    {
      "cell_type": "code",
      "source": [
        "train_concise(3)"
      ],
      "metadata": {
        "colab": {
          "base_uri": "https://localhost:8080/",
          "height": 264
        },
        "id": "cEEU9WiG8GyI",
        "outputId": "34c9d98e-9d48-4c92-cd4c-ff6b18eb95c0"
      },
      "execution_count": 126,
      "outputs": [
        {
          "output_type": "display_data",
          "data": {
            "image/png": "[encoded data removed]",
            "text/plain": [
              "<Figure size 432x288 with 1 Axes>"
            ]
          },
          "metadata": {
            "needs_background": "light"
          }
        }
      ]
    },
    {
      "cell_type": "code",
      "source": [
        ""
      ],
      "metadata": {
        "id": "pnhcaJtj9mL9"
      },
      "execution_count": null,
      "outputs": []
    },
    {
      "cell_type": "code",
      "source": [
        ""
      ],
      "metadata": {
        "id": "jwrHBorD9mVN"
      },
      "execution_count": null,
      "outputs": []
    }
  ]
}