{
  "nbformat": 4,
  "nbformat_minor": 0,
  "metadata": {
    "colab": {
      "name": "2.4.calculus.ipynb",
      "provenance": [],
      "collapsed_sections": [],
      "authorship_tag": "ABX9TyPog1AktzxBsYlk5wEBeHvc",
      "include_colab_link": true
    },
    "kernelspec": {
      "name": "python3",
      "display_name": "Python 3"
    },
    "language_info": {
      "name": "python"
    }
  },
  "cells": [
    {
      "cell_type": "markdown",
      "metadata": {
        "id": "view-in-github",
        "colab_type": "text"
      },
      "source": [
        "<a href=\"https://colab.research.google.com/github/thai94/d2l/blob/main/2.preliminaries%5C2_4_calculus.ipynb\" target=\"_parent\"><img src=\"https://colab.research.google.com/assets/colab-badge.svg\" alt=\"Open In Colab\"/></a>"
      ]
    },
    {
      "cell_type": "code",
      "execution_count": null,
      "metadata": {
        "id": "FTMudLfdSTkq"
      },
      "outputs": [],
      "source": [
        "def f(x):\n",
        "  return 3 * x ** 2 - 4 * x"
      ]
    },
    {
      "cell_type": "code",
      "source": [
        "def numerical_limit(f, x, h):\n",
        "  return (f(x + h) - f(x)) / h"
      ],
      "metadata": {
        "id": "kAbd6t-oxOEr"
      },
      "execution_count": null,
      "outputs": []
    },
    {
      "cell_type": "code",
      "source": [
        "h = 0.1\n",
        "for i in range(5):\n",
        "  print(f'h={h:.5f}, numerical limit:{numerical_limit(f, 1, h):.5f}')\n",
        "  h *= 0.1"
      ],
      "metadata": {
        "colab": {
          "base_uri": "https://localhost:8080/"
        },
        "id": "HTLG5XIkxnDi",
        "outputId": "887da8c3-f862-4509-8734-18d1cbead8b0"
      },
      "execution_count": null,
      "outputs": [
        {
          "output_type": "stream",
          "name": "stdout",
          "text": [
            "h=0.10000, numerical limit:2.30000\n",
            "h=0.01000, numerical limit:2.03000\n",
            "h=0.00100, numerical limit:2.00300\n",
            "h=0.00010, numerical limit:2.00030\n",
            "h=0.00001, numerical limit:2.00003\n"
          ]
        }
      ]
    },
    {
      "cell_type": "code",
      "source": [
        ""
      ],
      "metadata": {
        "id": "6o6g9kB_y6XR"
      },
      "execution_count": null,
      "outputs": []
    }
  ]
}