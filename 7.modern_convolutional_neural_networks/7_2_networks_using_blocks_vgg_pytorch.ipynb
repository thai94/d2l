{
  "nbformat": 4,
  "nbformat_minor": 0,
  "metadata": {
    "colab": {
      "name": "7.2.networks_using_blocks_vgg_pytorch.ipynb",
      "provenance": [],
      "collapsed_sections": [],
      "authorship_tag": "ABX9TyMcihahJwfprKDC2A92BG18",
      "include_colab_link": true
    },
    "kernelspec": {
      "name": "python3",
      "display_name": "Python 3"
    },
    "language_info": {
      "name": "python"
    },
    "accelerator": "GPU"
  },
  "cells": [
    {
      "cell_type": "markdown",
      "metadata": {
        "id": "view-in-github",
        "colab_type": "text"
      },
      "source": [
        "<a href=\"https://colab.research.google.com/github/thai94/d2l/blob/main/7.modern_convolutional_neural_networks/7_2_networks_using_blocks_vgg_pytorch.ipynb\" target=\"_parent\"><img src=\"https://colab.research.google.com/assets/colab-badge.svg\" alt=\"Open In Colab\"/></a>"
      ]
    },
    {
      "cell_type": "code",
      "execution_count": null,
      "metadata": {
        "id": "d4BmOj22Myri"
      },
      "outputs": [],
      "source": [
        "import torch\n",
        "from torch import nn\n",
        "import torchvision\n",
        "from torch.utils import data\n",
        "from torchvision import transforms\n",
        "import matplotlib.pyplot as plt"
      ]
    },
    {
      "cell_type": "code",
      "source": [
        "def vgg_block(num_convs, in_channels, out_channels):\n",
        "  layers = []\n",
        "  for _ in range(num_convs):\n",
        "    layers.append(nn.Conv2d(in_channels, out_channels,\n",
        "                                kernel_size=3, padding=1))\n",
        "    layers.append(nn.ReLU())\n",
        "    in_channels = out_channels\n",
        "  layers.append(nn.MaxPool2d(kernel_size=2,stride=2))\n",
        "  return nn.Sequential(*layers)"
      ],
      "metadata": {
        "id": "504wlXYBNAaC"
      },
      "execution_count": null,
      "outputs": []
    },
    {
      "cell_type": "code",
      "source": [
        "conv_arch = ((1, 64), (1, 128), (2, 256), (2, 512), (2, 512))"
      ],
      "metadata": {
        "id": "JO57OYC9QEyW"
      },
      "execution_count": null,
      "outputs": []
    },
    {
      "cell_type": "code",
      "source": [
        "def vgg(conv_arch):\n",
        "  conv_blks = []\n",
        "  in_channels = 1\n",
        "  for (num_convs, out_channels) in conv_arch:\n",
        "    conv_blks.append(vgg_block(num_convs, in_channels, out_channels))\n",
        "    in_channels = out_channels\n",
        "  return nn.Sequential(\n",
        "      *conv_blks, nn.Flatten(),\n",
        "      nn.Linear(out_channels * 7 * 7, 4096), nn.ReLU(), nn.Dropout(0.5),\n",
        "      nn.Linear(4096, 4096), nn.ReLU(), nn.Dropout(0.5),\n",
        "      nn.Linear(4096, 10)\n",
        "  )"
      ],
      "metadata": {
        "id": "56yskMQxQGOz"
      },
      "execution_count": null,
      "outputs": []
    },
    {
      "cell_type": "code",
      "source": [
        "net = vgg(conv_arch)"
      ],
      "metadata": {
        "id": "-7-9nLBhRNb1"
      },
      "execution_count": null,
      "outputs": []
    },
    {
      "cell_type": "code",
      "source": [
        "net"
      ],
      "metadata": {
        "colab": {
          "base_uri": "https://localhost:8080/"
        },
        "id": "ySXAo4V5RyeD",
        "outputId": "3e53bfc0-3d32-431d-b8d1-ce613ec6d9e0"
      },
      "execution_count": null,
      "outputs": [
        {
          "output_type": "execute_result",
          "data": {
            "text/plain": [
              "Sequential(\n",
              "  (0): Sequential(\n",
              "    (0): Conv2d(1, 64, kernel_size=(3, 3), stride=(1, 1), padding=(1, 1))\n",
              "    (1): ReLU()\n",
              "    (2): MaxPool2d(kernel_size=2, stride=2, padding=0, dilation=1, ceil_mode=False)\n",
              "  )\n",
              "  (1): Sequential(\n",
              "    (0): Conv2d(64, 128, kernel_size=(3, 3), stride=(1, 1), padding=(1, 1))\n",
              "    (1): ReLU()\n",
              "    (2): MaxPool2d(kernel_size=2, stride=2, padding=0, dilation=1, ceil_mode=False)\n",
              "  )\n",
              "  (2): Sequential(\n",
              "    (0): Conv2d(128, 256, kernel_size=(3, 3), stride=(1, 1), padding=(1, 1))\n",
              "    (1): ReLU()\n",
              "    (2): Conv2d(256, 256, kernel_size=(3, 3), stride=(1, 1), padding=(1, 1))\n",
              "    (3): ReLU()\n",
              "    (4): MaxPool2d(kernel_size=2, stride=2, padding=0, dilation=1, ceil_mode=False)\n",
              "  )\n",
              "  (3): Sequential(\n",
              "    (0): Conv2d(256, 512, kernel_size=(3, 3), stride=(1, 1), padding=(1, 1))\n",
              "    (1): ReLU()\n",
              "    (2): Conv2d(512, 512, kernel_size=(3, 3), stride=(1, 1), padding=(1, 1))\n",
              "    (3): ReLU()\n",
              "    (4): MaxPool2d(kernel_size=2, stride=2, padding=0, dilation=1, ceil_mode=False)\n",
              "  )\n",
              "  (4): Sequential(\n",
              "    (0): Conv2d(512, 512, kernel_size=(3, 3), stride=(1, 1), padding=(1, 1))\n",
              "    (1): ReLU()\n",
              "    (2): Conv2d(512, 512, kernel_size=(3, 3), stride=(1, 1), padding=(1, 1))\n",
              "    (3): ReLU()\n",
              "    (4): MaxPool2d(kernel_size=2, stride=2, padding=0, dilation=1, ceil_mode=False)\n",
              "  )\n",
              "  (5): Flatten(start_dim=1, end_dim=-1)\n",
              "  (6): Linear(in_features=25088, out_features=4096, bias=True)\n",
              "  (7): ReLU()\n",
              "  (8): Dropout(p=0.5, inplace=False)\n",
              "  (9): Linear(in_features=4096, out_features=4096, bias=True)\n",
              "  (10): ReLU()\n",
              "  (11): Dropout(p=0.5, inplace=False)\n",
              "  (12): Linear(in_features=4096, out_features=10, bias=True)\n",
              ")"
            ]
          },
          "metadata": {},
          "execution_count": 6
        }
      ]
    },
    {
      "cell_type": "code",
      "source": [
        "X = torch.randn(size=(1, 1, 224, 224))\n",
        "for blk in net:\n",
        "    X = blk(X)\n",
        "    print(blk.__class__.__name__,'output shape:\\t',X.shape)"
      ],
      "metadata": {
        "colab": {
          "base_uri": "https://localhost:8080/"
        },
        "id": "LSC-wZ98Rpay",
        "outputId": "b25c94ce-5c8e-4f0e-e8fd-65b9b9bac959"
      },
      "execution_count": null,
      "outputs": [
        {
          "output_type": "stream",
          "name": "stdout",
          "text": [
            "Sequential output shape:\t torch.Size([1, 64, 112, 112])\n",
            "Sequential output shape:\t torch.Size([1, 128, 56, 56])\n",
            "Sequential output shape:\t torch.Size([1, 256, 28, 28])\n",
            "Sequential output shape:\t torch.Size([1, 512, 14, 14])\n",
            "Sequential output shape:\t torch.Size([1, 512, 7, 7])\n",
            "Flatten output shape:\t torch.Size([1, 25088])\n",
            "Linear output shape:\t torch.Size([1, 4096])\n",
            "ReLU output shape:\t torch.Size([1, 4096])\n",
            "Dropout output shape:\t torch.Size([1, 4096])\n",
            "Linear output shape:\t torch.Size([1, 4096])\n",
            "ReLU output shape:\t torch.Size([1, 4096])\n",
            "Dropout output shape:\t torch.Size([1, 4096])\n",
            "Linear output shape:\t torch.Size([1, 10])\n"
          ]
        }
      ]
    },
    {
      "cell_type": "code",
      "source": [
        "def get_dataloader_workers():\n",
        "    \"\"\"Use 4 processes to read the data.\"\"\"\n",
        "    return 2"
      ],
      "metadata": {
        "id": "QAtG9mH_TZo7"
      },
      "execution_count": null,
      "outputs": []
    },
    {
      "cell_type": "code",
      "source": [
        "def load_data_fashion_mnist(batch_size, resize=None):\n",
        "    \"\"\"Download the Fashion-MNIST dataset and then load it into memory.\"\"\"\n",
        "    trans = [transforms.ToTensor()]\n",
        "    if resize:\n",
        "        trans.insert(0, transforms.Resize(resize))\n",
        "    trans = transforms.Compose(trans)\n",
        "    mnist_train = torchvision.datasets.FashionMNIST(\n",
        "        root=\"../data\", train=True, transform=trans, download=True)\n",
        "    mnist_test = torchvision.datasets.FashionMNIST(\n",
        "        root=\"../data\", train=False, transform=trans, download=True)\n",
        "    return (data.DataLoader(mnist_train, batch_size, shuffle=True,\n",
        "                            num_workers=get_dataloader_workers()),\n",
        "            data.DataLoader(mnist_test, batch_size, shuffle=False,\n",
        "                            num_workers=get_dataloader_workers()))"
      ],
      "metadata": {
        "id": "EcW3dp63TdGP"
      },
      "execution_count": null,
      "outputs": []
    },
    {
      "cell_type": "code",
      "source": [
        "def accuracy(y_hat, y):\n",
        "    \"\"\"Compute the number of correct predictions.\"\"\"\n",
        "    if len(y_hat.shape) > 1 and y_hat.shape[1] > 1:\n",
        "        y_hat = y_hat.argmax(axis=1)\n",
        "    cmp = y_hat.type(y.dtype) == y\n",
        "    return float(cmp.type(y.dtype).sum())"
      ],
      "metadata": {
        "id": "KdoAqa6WTiqS"
      },
      "execution_count": null,
      "outputs": []
    },
    {
      "cell_type": "code",
      "source": [
        "def evaluate_accuracy_gpu(net, data_iter, device=None):\n",
        "  if isinstance(net, nn.Module):\n",
        "    net.eval()\n",
        "    if not device:\n",
        "      device = next(iter(net.parameters())).device\n",
        "  metric = Accumulator(2)\n",
        "  with torch.no_grad():\n",
        "    for X, y in data_iter:\n",
        "      if isinstance(X, list):\n",
        "        X = [x.to(device) for x in X]\n",
        "      else:\n",
        "        X = X.to(device)\n",
        "      y = y.to(device)\n",
        "      metric.add(accuracy(net(X), y), y.numel())\n",
        "  return metric[0] / metric[1]"
      ],
      "metadata": {
        "id": "Gf3pWeBqTmn7"
      },
      "execution_count": null,
      "outputs": []
    },
    {
      "cell_type": "code",
      "source": [
        "def train_ch6(net, train_iter, test_iter, num_epochs, lr, device):\n",
        "\n",
        "  def init_weights(m):\n",
        "    if type(m) == nn.Linear or type(m) == nn.Conv2d:\n",
        "      nn.init.xavier_uniform_(m.weight)\n",
        "  net.apply(init_weights)\n",
        "  print('training on', device)\n",
        "  net.to(device)\n",
        "\n",
        "  optimizer = torch.optim.SGD(net.parameters(), lr=lr)\n",
        "  loss = nn.CrossEntropyLoss()\n",
        "  num_batches = len(train_iter)\n",
        "\n",
        "  train_x = []\n",
        "  test_x = []\n",
        "  train_loss = []\n",
        "  train_acc = []\n",
        "  test_acc = []\n",
        "  for epoch in range(num_epochs):\n",
        "    metric = Accumulator(3)\n",
        "    net.train()\n",
        "    for i, (X, y) in enumerate(train_iter):\n",
        "      optimizer.zero_grad()\n",
        "      X, y = X.to(device), y.to(device)\n",
        "      y_hat = net(X)\n",
        "      l = loss(y_hat, y)\n",
        "      l.backward()\n",
        "      optimizer.step()\n",
        "      with torch.no_grad():\n",
        "        metric.add(l * X.shape[0], accuracy(y_hat, y), X.shape[0])\n",
        "      train_l = metric[0] / metric[2]\n",
        "      train_a = metric[1] / metric[2]\n",
        "      if (i + 1) % (num_batches // 5) == 0 or i == num_batches - 1:\n",
        "        train_loss.append(train_l)\n",
        "        train_acc.append(train_a)\n",
        "        train_x.append(epoch + (i + 1) / num_batches)\n",
        "    test_acc.append(evaluate_accuracy_gpu(net, test_iter))\n",
        "    test_x.append(epoch + 1)\n",
        "    print(f'epoch: {(epoch + 1):f}, train loss {train_loss[-1]:.3f}, train acc {train_acc[-1]:.3f}, '\n",
        "          f'test acc {test_acc[-1]:.3f}')\n",
        "\n",
        "  print(f'train loss {train_loss[-1]:.3f}, train acc {train_acc[-1]:.3f}, '\n",
        "          f'test acc {test_acc[-1]:.3f}')\n",
        "  plt.plot(train_x, train_loss, 'r')\n",
        "  plt.plot(train_x, train_acc, 'b')\n",
        "  plt.plot(test_x, test_acc, 'g')\n",
        "  plt.show()"
      ],
      "metadata": {
        "id": "f-X1HfPbTo3u"
      },
      "execution_count": null,
      "outputs": []
    },
    {
      "cell_type": "code",
      "source": [
        "def try_gpu(i=0):\n",
        "    \"\"\"Return gpu(i) if exists, otherwise return cpu().\"\"\"\n",
        "    if torch.cuda.device_count() >= i + 1:\n",
        "        return torch.device(f'cuda:{i}')\n",
        "    return torch.device('cpu')"
      ],
      "metadata": {
        "id": "CPrfUAEITsjD"
      },
      "execution_count": null,
      "outputs": []
    },
    {
      "cell_type": "code",
      "source": [
        "class Accumulator:\n",
        "  def __init__(self, n):\n",
        "    self.data = [0.0] * n\n",
        "  \n",
        "  def add(self, *args):\n",
        "    self.data = [a + float(b) for a,b in zip(self.data, args)]\n",
        "\n",
        "  def reset(self):\n",
        "    self.data = [0.0] * len(self.data)\n",
        "    \n",
        "  def __getitem__(self, idx):\n",
        "    return self.data[idx]"
      ],
      "metadata": {
        "id": "icc1XWSjTuMw"
      },
      "execution_count": null,
      "outputs": []
    },
    {
      "cell_type": "code",
      "source": [
        "ratio = 4\n",
        "small_conv_arch = [(pair[0], pair[1] // ratio) for pair in conv_arch]\n",
        "net = vgg(small_conv_arch)"
      ],
      "metadata": {
        "id": "rWn4IsF9XDpb"
      },
      "execution_count": null,
      "outputs": []
    },
    {
      "cell_type": "code",
      "source": [
        "lr, num_epochs, batch_size = 0.05, 10, 128\n",
        "train_iter, test_iter = load_data_fashion_mnist(batch_size, resize=224)"
      ],
      "metadata": {
        "id": "-5q8qoC6Sy2E"
      },
      "execution_count": null,
      "outputs": []
    },
    {
      "cell_type": "code",
      "source": [
        "train_ch6(net, train_iter, test_iter, num_epochs, lr, try_gpu())"
      ],
      "metadata": {
        "colab": {
          "base_uri": "https://localhost:8080/",
          "height": 263
        },
        "id": "APDZY_hyTznq",
        "outputId": "1eb8c5bf-440a-44f7-9995-31e5f2bc5809"
      },
      "execution_count": null,
      "outputs": [
        {
          "output_type": "stream",
          "name": "stdout",
          "text": [
            "training on cuda:0\n",
            "epoch: 1.000000, train loss 1.069, train acc 0.600, test acc 0.835\n",
            "epoch: 2.000000, train loss 0.410, train acc 0.849, test acc 0.870\n",
            "epoch: 3.000000, train loss 0.332, train acc 0.877, test acc 0.885\n",
            "epoch: 4.000000, train loss 0.289, train acc 0.894, test acc 0.899\n",
            "epoch: 5.000000, train loss 0.260, train acc 0.905, test acc 0.899\n",
            "epoch: 6.000000, train loss 0.239, train acc 0.912, test acc 0.910\n",
            "epoch: 7.000000, train loss 0.221, train acc 0.919, test acc 0.907\n",
            "epoch: 8.000000, train loss 0.203, train acc 0.925, test acc 0.917\n",
            "epoch: 9.000000, train loss 0.188, train acc 0.930, test acc 0.915\n",
            "epoch: 10.000000, train loss 0.175, train acc 0.935, test acc 0.922\n",
            "train loss 0.175, train acc 0.935, test acc 0.922\n"
          ]
        },
        {
          "output_type": "display_data",
          "data": {
            "image/png": "[encoded data removed]",
            "text/plain": [
              "<Figure size 432x288 with 1 Axes>"
            ]
          },
          "metadata": {
            "needs_background": "light"
          }
        }
      ]
    }
  ]
}