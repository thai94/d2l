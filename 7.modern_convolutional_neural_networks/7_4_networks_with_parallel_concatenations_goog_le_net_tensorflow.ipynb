{
  "nbformat": 4,
  "nbformat_minor": 0,
  "metadata": {
    "colab": {
      "name": "7_4_networks_with_parallel_concatenations_goog_le_net_tensorflow.ipynb",
      "provenance": [],
      "collapsed_sections": [],
      "authorship_tag": "ABX9TyPfhAmGpVPOwUhiAv4lVq6E",
      "include_colab_link": true
    },
    "kernelspec": {
      "name": "python3",
      "display_name": "Python 3"
    },
    "language_info": {
      "name": "python"
    },
    "accelerator": "GPU"
  },
  "cells": [
    {
      "cell_type": "markdown",
      "metadata": {
        "id": "view-in-github",
        "colab_type": "text"
      },
      "source": [
        "<a href=\"https://colab.research.google.com/github/thai94/d2l/blob/main/7.modern_convolutional_neural_networks/7_4_networks_with_parallel_concatenations_goog_le_net_tensorflow.ipynb\" target=\"_parent\"><img src=\"https://colab.research.google.com/assets/colab-badge.svg\" alt=\"Open In Colab\"/></a>"
      ]
    },
    {
      "cell_type": "code",
      "execution_count": 10,
      "metadata": {
        "colab": {
          "base_uri": "https://localhost:8080/"
        },
        "id": "M0wl2CTpW8d2",
        "outputId": "98880d5f-6af7-4668-c092-dc0884cc770f"
      },
      "outputs": [
        {
          "output_type": "stream",
          "name": "stdout",
          "text": [
            "Collecting livelossplot\n",
            "  Downloading livelossplot-0.5.4-py3-none-any.whl (22 kB)\n",
            "Requirement already satisfied: bokeh in /usr/local/lib/python3.7/dist-packages (from livelossplot) (2.3.3)\n",
            "Requirement already satisfied: matplotlib in /usr/local/lib/python3.7/dist-packages (from livelossplot) (3.2.2)\n",
            "Requirement already satisfied: ipython in /usr/local/lib/python3.7/dist-packages (from livelossplot) (5.5.0)\n",
            "Requirement already satisfied: tornado>=5.1 in /usr/local/lib/python3.7/dist-packages (from bokeh->livelossplot) (5.1.1)\n",
            "Requirement already satisfied: numpy>=1.11.3 in /usr/local/lib/python3.7/dist-packages (from bokeh->livelossplot) (1.19.5)\n",
            "Requirement already satisfied: packaging>=16.8 in /usr/local/lib/python3.7/dist-packages (from bokeh->livelossplot) (21.3)\n",
            "Requirement already satisfied: python-dateutil>=2.1 in /usr/local/lib/python3.7/dist-packages (from bokeh->livelossplot) (2.8.2)\n",
            "Requirement already satisfied: Jinja2>=2.9 in /usr/local/lib/python3.7/dist-packages (from bokeh->livelossplot) (2.11.3)\n",
            "Requirement already satisfied: typing-extensions>=3.7.4 in /usr/local/lib/python3.7/dist-packages (from bokeh->livelossplot) (3.10.0.2)\n",
            "Requirement already satisfied: pillow>=7.1.0 in /usr/local/lib/python3.7/dist-packages (from bokeh->livelossplot) (7.1.2)\n",
            "Requirement already satisfied: PyYAML>=3.10 in /usr/local/lib/python3.7/dist-packages (from bokeh->livelossplot) (3.13)\n",
            "Requirement already satisfied: MarkupSafe>=0.23 in /usr/local/lib/python3.7/dist-packages (from Jinja2>=2.9->bokeh->livelossplot) (2.0.1)\n",
            "Requirement already satisfied: pyparsing!=3.0.5,>=2.0.2 in /usr/local/lib/python3.7/dist-packages (from packaging>=16.8->bokeh->livelossplot) (3.0.7)\n",
            "Requirement already satisfied: six>=1.5 in /usr/local/lib/python3.7/dist-packages (from python-dateutil>=2.1->bokeh->livelossplot) (1.15.0)\n",
            "Requirement already satisfied: setuptools>=18.5 in /usr/local/lib/python3.7/dist-packages (from ipython->livelossplot) (57.4.0)\n",
            "Requirement already satisfied: traitlets>=4.2 in /usr/local/lib/python3.7/dist-packages (from ipython->livelossplot) (5.1.1)\n",
            "Requirement already satisfied: pickleshare in /usr/local/lib/python3.7/dist-packages (from ipython->livelossplot) (0.7.5)\n",
            "Requirement already satisfied: pygments in /usr/local/lib/python3.7/dist-packages (from ipython->livelossplot) (2.6.1)\n",
            "Requirement already satisfied: prompt-toolkit<2.0.0,>=1.0.4 in /usr/local/lib/python3.7/dist-packages (from ipython->livelossplot) (1.0.18)\n",
            "Requirement already satisfied: simplegeneric>0.8 in /usr/local/lib/python3.7/dist-packages (from ipython->livelossplot) (0.8.1)\n",
            "Requirement already satisfied: pexpect in /usr/local/lib/python3.7/dist-packages (from ipython->livelossplot) (4.8.0)\n",
            "Requirement already satisfied: decorator in /usr/local/lib/python3.7/dist-packages (from ipython->livelossplot) (4.4.2)\n",
            "Requirement already satisfied: wcwidth in /usr/local/lib/python3.7/dist-packages (from prompt-toolkit<2.0.0,>=1.0.4->ipython->livelossplot) (0.2.5)\n",
            "Requirement already satisfied: kiwisolver>=1.0.1 in /usr/local/lib/python3.7/dist-packages (from matplotlib->livelossplot) (1.3.2)\n",
            "Requirement already satisfied: cycler>=0.10 in /usr/local/lib/python3.7/dist-packages (from matplotlib->livelossplot) (0.11.0)\n",
            "Requirement already satisfied: ptyprocess>=0.5 in /usr/local/lib/python3.7/dist-packages (from pexpect->ipython->livelossplot) (0.7.0)\n",
            "Installing collected packages: livelossplot\n",
            "Successfully installed livelossplot-0.5.4\n"
          ]
        }
      ],
      "source": [
        "import tensorflow as tf\n",
        "!pip install livelossplot\n",
        "from livelossplot import PlotLossesKeras"
      ]
    },
    {
      "cell_type": "code",
      "source": [
        "class Inception(tf.keras.Model):\n",
        "\n",
        "  def __init__(self, c1, c2, c3, c4):\n",
        "    super().__init__()\n",
        "    self.p1_1 = tf.keras.layers.Conv2D(c1, 1, activation='relu')\n",
        "\n",
        "    self.p2_1 = tf.keras.layers.Conv2D(c2[0], 1, activation='relu')\n",
        "    self.p2_2 = tf.keras.layers.Conv2D(c2[1], 3, padding='same',\n",
        "                                           activation='relu')\n",
        "    \n",
        "    self.p3_1 = tf.keras.layers.Conv2D(c3[0], 1, activation='relu')\n",
        "    self.p3_2 = tf.keras.layers.Conv2D(c3[1], 5, padding='same',\n",
        "                                           activation='relu')\n",
        "    \n",
        "    self.p4_1 = tf.keras.layers.MaxPool2D(3, 1, padding='same')\n",
        "    self.p4_2 = tf.keras.layers.Conv2D(c4, 1, activation='relu')\n",
        "\n",
        "  def call(self, x):\n",
        "    p1 = self.p1_1(x)\n",
        "    p2 = self.p2_2(self.p2_1(x))\n",
        "    p3 = self.p3_2(self.p3_1(x))\n",
        "    p4 = self.p4_2(self.p4_1(x))\n",
        "    return tf.keras.layers.Concatenate()([p1, p2, p3, p4])"
      ],
      "metadata": {
        "id": "9NunTjxYXDVG"
      },
      "execution_count": 11,
      "outputs": []
    },
    {
      "cell_type": "code",
      "source": [
        "def b1():\n",
        "  return tf.keras.models.Sequential([\n",
        "    tf.keras.layers.Conv2D(64, 7, strides=2, padding='same',\n",
        "                               activation='relu'),\n",
        "    tf.keras.layers.MaxPool2D(pool_size=3, strides=2, padding='same')   \n",
        "  ])"
      ],
      "metadata": {
        "id": "RJnA0NO6XeBU"
      },
      "execution_count": 12,
      "outputs": []
    },
    {
      "cell_type": "code",
      "source": [
        "def b2():\n",
        "    return tf.keras.Sequential([\n",
        "        tf.keras.layers.Conv2D(64, 1, activation='relu'),\n",
        "        tf.keras.layers.Conv2D(192, 3, padding='same', activation='relu'),\n",
        "        tf.keras.layers.MaxPool2D(pool_size=3, strides=2, padding='same')])"
      ],
      "metadata": {
        "id": "NJTi4D4iXx0G"
      },
      "execution_count": 13,
      "outputs": []
    },
    {
      "cell_type": "code",
      "source": [
        "def b3():\n",
        "    return tf.keras.models.Sequential([\n",
        "        Inception(64, (96, 128), (16, 32), 32),\n",
        "        Inception(128, (128, 192), (32, 96), 64),\n",
        "        tf.keras.layers.MaxPool2D(pool_size=3, strides=2, padding='same')])"
      ],
      "metadata": {
        "id": "F-Egf64FX0KA"
      },
      "execution_count": 14,
      "outputs": []
    },
    {
      "cell_type": "code",
      "source": [
        "def b4():\n",
        "    return tf.keras.Sequential([\n",
        "        Inception(192, (96, 208), (16, 48), 64),\n",
        "        Inception(160, (112, 224), (24, 64), 64),\n",
        "        Inception(128, (128, 256), (24, 64), 64),\n",
        "        Inception(112, (144, 288), (32, 64), 64),\n",
        "        Inception(256, (160, 320), (32, 128), 128),\n",
        "        tf.keras.layers.MaxPool2D(pool_size=3, strides=2, padding='same')])"
      ],
      "metadata": {
        "id": "PXSP8pl1X10L"
      },
      "execution_count": 15,
      "outputs": []
    },
    {
      "cell_type": "code",
      "source": [
        "def b5():\n",
        "    return tf.keras.Sequential([\n",
        "        Inception(256, (160, 320), (32, 128), 128),\n",
        "        Inception(384, (192, 384), (48, 128), 128),\n",
        "        tf.keras.layers.GlobalAvgPool2D(),\n",
        "        tf.keras.layers.Flatten()])"
      ],
      "metadata": {
        "id": "GgRn2W0GX6vy"
      },
      "execution_count": 16,
      "outputs": []
    },
    {
      "cell_type": "code",
      "source": [
        "def net():\n",
        "    return tf.keras.Sequential([b1(), b2(), b3(), b4(), b5(),\n",
        "                                tf.keras.layers.Dense(10)])"
      ],
      "metadata": {
        "id": "167JGbjyX8R1"
      },
      "execution_count": 17,
      "outputs": []
    },
    {
      "cell_type": "code",
      "source": [
        "X = tf.random.uniform(shape=(1, 96, 96, 1))\n",
        "for layer in net().layers:\n",
        "    X = layer(X)\n",
        "    print(layer.__class__.__name__, 'output shape:\\t', X.shape)"
      ],
      "metadata": {
        "colab": {
          "base_uri": "https://localhost:8080/"
        },
        "id": "kV-GpxNLX9vf",
        "outputId": "8833a81c-9513-41c9-b2aa-4f215c132623"
      },
      "execution_count": 18,
      "outputs": [
        {
          "output_type": "stream",
          "name": "stdout",
          "text": [
            "Sequential output shape:\t (1, 24, 24, 64)\n",
            "Sequential output shape:\t (1, 12, 12, 192)\n",
            "Sequential output shape:\t (1, 6, 6, 480)\n",
            "Sequential output shape:\t (1, 3, 3, 832)\n",
            "Sequential output shape:\t (1, 1024)\n",
            "Dense output shape:\t (1, 10)\n"
          ]
        }
      ]
    },
    {
      "cell_type": "code",
      "source": [
        "def load_data_fashion_mnist(batch_size, resize=None):\n",
        "    \"\"\"Download the Fashion-MNIST dataset and then load it into memory.\"\"\"\n",
        "    mnist_train, mnist_test = tf.keras.datasets.fashion_mnist.load_data()\n",
        "    # Divide all numbers by 255 so that all pixel values are between\n",
        "    # 0 and 1, add a batch dimension at the last. And cast label to int32\n",
        "    process = lambda X, y: (tf.expand_dims(X, axis=3) / 255,\n",
        "                            tf.cast(y, dtype='int32'))\n",
        "    resize_fn = lambda X, y: (\n",
        "        tf.image.resize_with_pad(X, resize, resize) if resize else X, y)\n",
        "    return (\n",
        "        tf.data.Dataset.from_tensor_slices(process(*mnist_train)).batch(\n",
        "            batch_size).shuffle(len(mnist_train[0])).map(resize_fn),\n",
        "        tf.data.Dataset.from_tensor_slices(process(*mnist_test)).batch(\n",
        "            batch_size).map(resize_fn))"
      ],
      "metadata": {
        "id": "YHaq7SH7YUEM"
      },
      "execution_count": 19,
      "outputs": []
    },
    {
      "cell_type": "code",
      "source": [
        "def train_ch6(net_fn, train_iter, test_iter, num_epochs, lr, device):\n",
        "  device_name = device._device_name\n",
        "  strategy = tf.distribute.OneDeviceStrategy(device_name)\n",
        "  with strategy.scope():\n",
        "    optimizer = tf.keras.optimizers.SGD(learning_rate=lr)\n",
        "    loss = tf.keras.losses.SparseCategoricalCrossentropy(from_logits=True)\n",
        "    net = net_fn()\n",
        "    net.compile(optimizer=optimizer, loss=loss, metrics=['accuracy'])\n",
        "  net.fit(train_iter, epochs=num_epochs, verbose=0, callbacks=[PlotLossesKeras()])\n",
        "  return net"
      ],
      "metadata": {
        "id": "7on2k8X2YVmH"
      },
      "execution_count": 20,
      "outputs": []
    },
    {
      "cell_type": "code",
      "source": [
        "def try_gpu(i=0):\n",
        "    \"\"\"Return gpu(i) if exists, otherwise return cpu().\"\"\"\n",
        "    if len(tf.config.experimental.list_physical_devices('GPU')) >= i + 1:\n",
        "        return tf.device(f'/GPU:{i}')\n",
        "    return tf.device('/CPU:0')"
      ],
      "metadata": {
        "id": "3tIE8pagYXHH"
      },
      "execution_count": 21,
      "outputs": []
    },
    {
      "cell_type": "code",
      "source": [
        "lr, num_epochs, batch_size = 0.1, 10, 128\n",
        "train_iter, test_iter = load_data_fashion_mnist(batch_size, resize=224)\n",
        "train_ch6(net, train_iter, test_iter, num_epochs, lr, try_gpu())"
      ],
      "metadata": {
        "colab": {
          "base_uri": "https://localhost:8080/",
          "height": 654
        },
        "id": "EOy49bhtYYsi",
        "outputId": "bf3fe21e-7546-48e2-b6dd-c13a696c3a2c"
      },
      "execution_count": null,
      "outputs": [
        {
          "output_type": "display_data",
          "data": {
            "image/png": "[encoded data removed]",
            "text/plain": [
              "<Figure size 864x576 with 2 Axes>"
            ]
          },
          "metadata": {
            "needs_background": "light"
          }
        },
        {
          "output_type": "stream",
          "name": "stdout",
          "text": [
            "accuracy\n",
            "\taccuracy         \t (min:    0.240, max:    0.894, cur:    0.894)\n",
            "Loss\n",
            "\tloss             \t (min:    0.287, max:    2.024, cur:    0.287)\n"
          ]
        }
      ]
    }
  ]
}