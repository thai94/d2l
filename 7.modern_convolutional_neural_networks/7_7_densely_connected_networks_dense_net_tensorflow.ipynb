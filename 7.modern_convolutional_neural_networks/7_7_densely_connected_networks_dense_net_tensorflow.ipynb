{
  "nbformat": 4,
  "nbformat_minor": 0,
  "metadata": {
    "colab": {
      "name": "7_7_densely_connected_networks_dense_net_tensorflow.ipynb",
      "provenance": [],
      "collapsed_sections": [],
      "authorship_tag": "ABX9TyPJ9800Uf4A8rBltH4O65vo",
      "include_colab_link": true
    },
    "kernelspec": {
      "name": "python3",
      "display_name": "Python 3"
    },
    "language_info": {
      "name": "python"
    },
    "accelerator": "GPU"
  },
  "cells": [
    {
      "cell_type": "markdown",
      "metadata": {
        "id": "view-in-github",
        "colab_type": "text"
      },
      "source": [
        "<a href=\"https://colab.research.google.com/github/thai94/d2l/blob/main/7.modern_convolutional_neural_networks/7_7_densely_connected_networks_dense_net_tensorflow.ipynb\" target=\"_parent\"><img src=\"https://colab.research.google.com/assets/colab-badge.svg\" alt=\"Open In Colab\"/></a>"
      ]
    },
    {
      "cell_type": "code",
      "execution_count": 19,
      "metadata": {
        "colab": {
          "base_uri": "https://localhost:8080/"
        },
        "id": "ptGNPEm1qKBC",
        "outputId": "96810ee7-77e4-4c55-fb82-fe803c651472"
      },
      "outputs": [
        {
          "output_type": "stream",
          "name": "stdout",
          "text": [
            "Collecting livelossplot\n",
            "  Downloading livelossplot-0.5.4-py3-none-any.whl (22 kB)\n",
            "Requirement already satisfied: bokeh in /usr/local/lib/python3.7/dist-packages (from livelossplot) (2.3.3)\n",
            "Requirement already satisfied: ipython in /usr/local/lib/python3.7/dist-packages (from livelossplot) (5.5.0)\n",
            "Requirement already satisfied: matplotlib in /usr/local/lib/python3.7/dist-packages (from livelossplot) (3.2.2)\n",
            "Requirement already satisfied: PyYAML>=3.10 in /usr/local/lib/python3.7/dist-packages (from bokeh->livelossplot) (3.13)\n",
            "Requirement already satisfied: pillow>=7.1.0 in /usr/local/lib/python3.7/dist-packages (from bokeh->livelossplot) (7.1.2)\n",
            "Requirement already satisfied: python-dateutil>=2.1 in /usr/local/lib/python3.7/dist-packages (from bokeh->livelossplot) (2.8.2)\n",
            "Requirement already satisfied: typing-extensions>=3.7.4 in /usr/local/lib/python3.7/dist-packages (from bokeh->livelossplot) (3.10.0.2)\n",
            "Requirement already satisfied: Jinja2>=2.9 in /usr/local/lib/python3.7/dist-packages (from bokeh->livelossplot) (2.11.3)\n",
            "Requirement already satisfied: packaging>=16.8 in /usr/local/lib/python3.7/dist-packages (from bokeh->livelossplot) (21.3)\n",
            "Requirement already satisfied: tornado>=5.1 in /usr/local/lib/python3.7/dist-packages (from bokeh->livelossplot) (5.1.1)\n",
            "Requirement already satisfied: numpy>=1.11.3 in /usr/local/lib/python3.7/dist-packages (from bokeh->livelossplot) (1.19.5)\n",
            "Requirement already satisfied: MarkupSafe>=0.23 in /usr/local/lib/python3.7/dist-packages (from Jinja2>=2.9->bokeh->livelossplot) (2.0.1)\n",
            "Requirement already satisfied: pyparsing!=3.0.5,>=2.0.2 in /usr/local/lib/python3.7/dist-packages (from packaging>=16.8->bokeh->livelossplot) (3.0.7)\n",
            "Requirement already satisfied: six>=1.5 in /usr/local/lib/python3.7/dist-packages (from python-dateutil>=2.1->bokeh->livelossplot) (1.15.0)\n",
            "Requirement already satisfied: pexpect in /usr/local/lib/python3.7/dist-packages (from ipython->livelossplot) (4.8.0)\n",
            "Requirement already satisfied: prompt-toolkit<2.0.0,>=1.0.4 in /usr/local/lib/python3.7/dist-packages (from ipython->livelossplot) (1.0.18)\n",
            "Requirement already satisfied: setuptools>=18.5 in /usr/local/lib/python3.7/dist-packages (from ipython->livelossplot) (57.4.0)\n",
            "Requirement already satisfied: decorator in /usr/local/lib/python3.7/dist-packages (from ipython->livelossplot) (4.4.2)\n",
            "Requirement already satisfied: pygments in /usr/local/lib/python3.7/dist-packages (from ipython->livelossplot) (2.6.1)\n",
            "Requirement already satisfied: simplegeneric>0.8 in /usr/local/lib/python3.7/dist-packages (from ipython->livelossplot) (0.8.1)\n",
            "Requirement already satisfied: pickleshare in /usr/local/lib/python3.7/dist-packages (from ipython->livelossplot) (0.7.5)\n",
            "Requirement already satisfied: traitlets>=4.2 in /usr/local/lib/python3.7/dist-packages (from ipython->livelossplot) (5.1.1)\n",
            "Requirement already satisfied: wcwidth in /usr/local/lib/python3.7/dist-packages (from prompt-toolkit<2.0.0,>=1.0.4->ipython->livelossplot) (0.2.5)\n",
            "Requirement already satisfied: kiwisolver>=1.0.1 in /usr/local/lib/python3.7/dist-packages (from matplotlib->livelossplot) (1.3.2)\n",
            "Requirement already satisfied: cycler>=0.10 in /usr/local/lib/python3.7/dist-packages (from matplotlib->livelossplot) (0.11.0)\n",
            "Requirement already satisfied: ptyprocess>=0.5 in /usr/local/lib/python3.7/dist-packages (from pexpect->ipython->livelossplot) (0.7.0)\n",
            "Installing collected packages: livelossplot\n",
            "Successfully installed livelossplot-0.5.4\n"
          ]
        }
      ],
      "source": [
        "import tensorflow as tf\n",
        "!pip install livelossplot\n",
        "from livelossplot import PlotLossesKeras"
      ]
    },
    {
      "cell_type": "code",
      "source": [
        "class ConvBlock(tf.keras.layers.Layer):\n",
        "\n",
        "  def __init__(self, num_channels):\n",
        "    \n",
        "    super(ConvBlock, self).__init__()\n",
        "    self.bn = tf.keras.layers.BatchNormalization()\n",
        "    self.relu = tf.keras.layers.ReLU()\n",
        "    self.conv = tf.keras.layers.Conv2D(\n",
        "            filters=num_channels, kernel_size=(3, 3), padding='same')    \n",
        "    self.listLayers = [self.bn, self.relu, self.conv]\n",
        "\n",
        "  def call(self, x):\n",
        "    y = x\n",
        "    for layer in self.listLayers.layers:\n",
        "      y = layer(y)\n",
        "    y = tf.keras.layers.concatenate([x,y], axis=-1)\n",
        "    return y"
      ],
      "metadata": {
        "id": "cJj-OBgDqVbv"
      },
      "execution_count": 20,
      "outputs": []
    },
    {
      "cell_type": "code",
      "source": [
        "class DenseBlock(tf.keras.layers.Layer):\n",
        "  def __init__(self, num_convs, num_channels):\n",
        "    super(DenseBlock, self).__init__()\n",
        "    self.listLayers = []\n",
        "    for _ in range(num_convs):\n",
        "      self.listLayers.append(ConvBlock(num_channels))\n",
        "\n",
        "  def call(self, x):\n",
        "    for layer in self.listLayers.layers:\n",
        "      x = layer(x)\n",
        "    return x"
      ],
      "metadata": {
        "id": "ilCFmA4BtCA_"
      },
      "execution_count": 21,
      "outputs": []
    },
    {
      "cell_type": "code",
      "source": [
        "blk = DenseBlock(2, 10)\n",
        "X = tf.random.uniform((4, 8, 8, 3))\n",
        "Y = blk(X)\n",
        "Y.shape"
      ],
      "metadata": {
        "colab": {
          "base_uri": "https://localhost:8080/"
        },
        "id": "2dyO3ZXotZwT",
        "outputId": "2d7fb5ba-dabb-4af3-d68d-0e7e6b700627"
      },
      "execution_count": 22,
      "outputs": [
        {
          "output_type": "execute_result",
          "data": {
            "text/plain": [
              "TensorShape([4, 8, 8, 23])"
            ]
          },
          "metadata": {},
          "execution_count": 22
        }
      ]
    },
    {
      "cell_type": "code",
      "source": [
        "class TransitionBlock(tf.keras.layers.Layer):\n",
        "\n",
        "  def __init__(self, num_channels, **kwargs):\n",
        "    super(TransitionBlock, self).__init__(**kwargs)\n",
        "    self.batch_norm = tf.keras.layers.BatchNormalization()\n",
        "    self.relu = tf.keras.layers.ReLU()\n",
        "    self.conv = tf.keras.layers.Conv2D(num_channels, kernel_size=1)\n",
        "    self.avg_pool = tf.keras.layers.AvgPool2D(pool_size=2, strides=2)\n",
        "  \n",
        "  def call(self, x):\n",
        "    x = self.batch_norm(x)\n",
        "    x = self.relu(x)\n",
        "    x = self.conv(x)\n",
        "    return self.avg_pool(x)"
      ],
      "metadata": {
        "id": "1vNXz0MntuH3"
      },
      "execution_count": 23,
      "outputs": []
    },
    {
      "cell_type": "code",
      "source": [
        "blk = TransitionBlock(10)\n",
        "blk(Y).shape"
      ],
      "metadata": {
        "colab": {
          "base_uri": "https://localhost:8080/"
        },
        "id": "NwGvyhEAt_z2",
        "outputId": "29d27003-b670-42ff-9c1e-3d5ed99be3cb"
      },
      "execution_count": 24,
      "outputs": [
        {
          "output_type": "execute_result",
          "data": {
            "text/plain": [
              "TensorShape([4, 4, 4, 10])"
            ]
          },
          "metadata": {},
          "execution_count": 24
        }
      ]
    },
    {
      "cell_type": "code",
      "source": [
        "def block_1():\n",
        "    return tf.keras.Sequential([\n",
        "       tf.keras.layers.Conv2D(64, kernel_size=7, strides=2, padding='same'),\n",
        "       tf.keras.layers.BatchNormalization(),\n",
        "       tf.keras.layers.ReLU(),\n",
        "       tf.keras.layers.MaxPool2D(pool_size=3, strides=2, padding='same')])"
      ],
      "metadata": {
        "id": "1bMmyTFJuGs2"
      },
      "execution_count": 25,
      "outputs": []
    },
    {
      "cell_type": "code",
      "source": [
        "def block_2():\n",
        "\n",
        "  net = block_1()\n",
        "  num_channels, growth_rate = 64, 32\n",
        "  num_convs_in_dense_blocks = [4, 4, 4, 4]\n",
        "\n",
        "  for i, num_convs in enumerate(num_convs_in_dense_blocks):\n",
        "    net.add(DenseBlock(num_convs, growth_rate))\n",
        "    num_channels += num_convs * growth_rate\n",
        "    if i != len(num_convs_in_dense_blocks) - 1:\n",
        "      num_channels //= 2\n",
        "      net.add(TransitionBlock(num_channels))\n",
        "  return net"
      ],
      "metadata": {
        "id": "Hw7WCSWhuJeo"
      },
      "execution_count": 26,
      "outputs": []
    },
    {
      "cell_type": "code",
      "source": [
        "def load_data_fashion_mnist(batch_size, resize=None):\n",
        "    \"\"\"Download the Fashion-MNIST dataset and then load it into memory.\"\"\"\n",
        "    mnist_train, mnist_test = tf.keras.datasets.fashion_mnist.load_data()\n",
        "    # Divide all numbers by 255 so that all pixel values are between\n",
        "    # 0 and 1, add a batch dimension at the last. And cast label to int32\n",
        "    process = lambda X, y: (tf.expand_dims(X, axis=3) / 255,\n",
        "                            tf.cast(y, dtype='int32'))\n",
        "    resize_fn = lambda X, y: (\n",
        "        tf.image.resize_with_pad(X, resize, resize) if resize else X, y)\n",
        "    return (\n",
        "        tf.data.Dataset.from_tensor_slices(process(*mnist_train)).batch(\n",
        "            batch_size).shuffle(len(mnist_train[0])).map(resize_fn),\n",
        "        tf.data.Dataset.from_tensor_slices(process(*mnist_test)).batch(\n",
        "            batch_size).map(resize_fn))\n",
        "    \n",
        "def train_ch6(net_fn, train_iter, test_iter, num_epochs, lr, device):\n",
        "  device_name = device._device_name\n",
        "  strategy = tf.distribute.OneDeviceStrategy(device_name)\n",
        "  with strategy.scope():\n",
        "    optimizer = tf.keras.optimizers.SGD(learning_rate=lr)\n",
        "    loss = tf.keras.losses.SparseCategoricalCrossentropy(from_logits=True)\n",
        "    net = net_fn()\n",
        "    net.compile(optimizer=optimizer, loss=loss, metrics=['accuracy'])\n",
        "  net.fit(train_iter, epochs=num_epochs, verbose=0, callbacks=[PlotLossesKeras()])\n",
        "  return net\n",
        "\n",
        "def try_gpu(i=0):\n",
        "    \"\"\"Return gpu(i) if exists, otherwise return cpu().\"\"\"\n",
        "    if len(tf.config.experimental.list_physical_devices('GPU')) >= i + 1:\n",
        "        return tf.device(f'/GPU:{i}')\n",
        "    return tf.device('/CPU:0')"
      ],
      "metadata": {
        "id": "Ve_c2MjquzPJ"
      },
      "execution_count": 27,
      "outputs": []
    },
    {
      "cell_type": "code",
      "source": [
        "def net():\n",
        "    net = block_2()\n",
        "    net.add(tf.keras.layers.BatchNormalization())\n",
        "    net.add(tf.keras.layers.ReLU())\n",
        "    net.add(tf.keras.layers.GlobalAvgPool2D())\n",
        "    net.add(tf.keras.layers.Flatten())\n",
        "    net.add(tf.keras.layers.Dense(10))\n",
        "    return net"
      ],
      "metadata": {
        "id": "-4zwmeAYvL3J"
      },
      "execution_count": 28,
      "outputs": []
    },
    {
      "cell_type": "code",
      "source": [
        "lr, num_epochs, batch_size = 0.1, 10, 256\n",
        "train_iter, test_iter = load_data_fashion_mnist(batch_size, resize=96)"
      ],
      "metadata": {
        "colab": {
          "base_uri": "https://localhost:8080/"
        },
        "id": "5L2T5S4lu5ao",
        "outputId": "cfa3e239-4c88-40d9-e178-3b1b8fe65564"
      },
      "execution_count": 29,
      "outputs": [
        {
          "output_type": "stream",
          "name": "stdout",
          "text": [
            "Downloading data from https://storage.googleapis.com/tensorflow/tf-keras-datasets/train-labels-idx1-ubyte.gz\n",
            "32768/29515 [=================================] - 0s 0us/step\n",
            "40960/29515 [=========================================] - 0s 0us/step\n",
            "Downloading data from https://storage.googleapis.com/tensorflow/tf-keras-datasets/train-images-idx3-ubyte.gz\n",
            "26427392/26421880 [==============================] - 0s 0us/step\n",
            "26435584/26421880 [==============================] - 0s 0us/step\n",
            "Downloading data from https://storage.googleapis.com/tensorflow/tf-keras-datasets/t10k-labels-idx1-ubyte.gz\n",
            "16384/5148 [===============================================================================================] - 0s 0us/step\n",
            "Downloading data from https://storage.googleapis.com/tensorflow/tf-keras-datasets/t10k-images-idx3-ubyte.gz\n",
            "4423680/4422102 [==============================] - 0s 0us/step\n",
            "4431872/4422102 [==============================] - 0s 0us/step\n"
          ]
        }
      ]
    },
    {
      "cell_type": "code",
      "source": [
        "train_ch6(net, train_iter, test_iter, num_epochs, lr, try_gpu())"
      ],
      "metadata": {
        "colab": {
          "base_uri": "https://localhost:8080/",
          "height": 658
        },
        "id": "MAxTcLhGu_f-",
        "outputId": "1197e64e-940b-4aa5-c185-9cb09638ecfe"
      },
      "execution_count": null,
      "outputs": [
        {
          "output_type": "display_data",
          "data": {
            "image/png": "[encoded data removed]",
            "text/plain": [
              "<Figure size 864x576 with 2 Axes>"
            ]
          },
          "metadata": {
            "needs_background": "light"
          }
        },
        {
          "output_type": "stream",
          "name": "stdout",
          "text": [
            "accuracy\n",
            "\taccuracy         \t (min:    0.810, max:    0.936, cur:    0.936)\n",
            "Loss\n",
            "\tloss             \t (min:    0.176, max:    0.539, cur:    0.176)\n"
          ]
        }
      ]
    }
  ]
}