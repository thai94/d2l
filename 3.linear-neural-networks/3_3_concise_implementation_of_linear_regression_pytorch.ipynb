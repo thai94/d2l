{
  "nbformat": 4,
  "nbformat_minor": 0,
  "metadata": {
    "colab": {
      "name": "3.3.concise_implementation_of_linear_regression_pytorch.ipynb",
      "provenance": [],
      "collapsed_sections": [],
      "authorship_tag": "ABX9TyPCuD3AzSza2NumurnYUKTz",
      "include_colab_link": true
    },
    "kernelspec": {
      "name": "python3",
      "display_name": "Python 3"
    },
    "language_info": {
      "name": "python"
    }
  },
  "cells": [
    {
      "cell_type": "markdown",
      "metadata": {
        "id": "view-in-github",
        "colab_type": "text"
      },
      "source": [
        "<a href=\"https://colab.research.google.com/github/thai94/d2l/blob/main/3.linear-neural-networks/3_3_concise_implementation_of_linear_regression_pytorch.ipynb\" target=\"_parent\"><img src=\"https://colab.research.google.com/assets/colab-badge.svg\" alt=\"Open In Colab\"/></a>"
      ]
    },
    {
      "cell_type": "code",
      "execution_count": 97,
      "metadata": {
        "id": "EflMTFiC76vy"
      },
      "outputs": [],
      "source": [
        "import numpy as np\n",
        "from torch.utils import data\n",
        "import torch"
      ]
    },
    {
      "cell_type": "code",
      "source": [
        "def synthetic_data(w, b, num_examples):\n",
        "    \"\"\"Generate y = Xw + b + noise.\"\"\"\n",
        "    X = torch.normal(0, 1, (num_examples, len(w)))\n",
        "    y = torch.matmul(X, w) + b\n",
        "    y += torch.normal(0, 0.01, y.shape)\n",
        "    return X, y.reshape((-1, 1))"
      ],
      "metadata": {
        "id": "I4pR0UaI8ViU"
      },
      "execution_count": 98,
      "outputs": []
    },
    {
      "cell_type": "code",
      "source": [
        "true_w = torch.tensor([2, -3.4])\n",
        "true_b = 4.2\n",
        "\n",
        "features, labels = synthetic_data(true_w, true_b, 1000)"
      ],
      "metadata": {
        "id": "sA8qt6aX8b2a"
      },
      "execution_count": 99,
      "outputs": []
    },
    {
      "cell_type": "code",
      "source": [
        "def load_array(data_arrays, batch_size, is_train=True):\n",
        "  dataset = data.TensorDataset(*data_arrays)\n",
        "  return data.DataLoader(dataset, batch_size, shuffle=is_train)"
      ],
      "metadata": {
        "id": "DQShWM3H8pBM"
      },
      "execution_count": 100,
      "outputs": []
    },
    {
      "cell_type": "code",
      "source": [
        "batch_size = 10\n",
        "data_iter = load_array((features, labels), batch_size)"
      ],
      "metadata": {
        "id": "j6MJILUd9kig"
      },
      "execution_count": 101,
      "outputs": []
    },
    {
      "cell_type": "code",
      "source": [
        "next(iter(data_iter))"
      ],
      "metadata": {
        "colab": {
          "base_uri": "https://localhost:8080/"
        },
        "id": "ojN-CsRU9xwU",
        "outputId": "e8c1f2d0-910b-4852-b5b8-4d0bdce79256"
      },
      "execution_count": 102,
      "outputs": [
        {
          "output_type": "execute_result",
          "data": {
            "text/plain": [
              "[tensor([[ 0.9870,  0.3789],\n",
              "         [ 0.3850, -1.2896],\n",
              "         [ 0.3451, -1.0070],\n",
              "         [-2.2304, -1.2944],\n",
              "         [ 0.3541,  1.1616],\n",
              "         [-0.2637, -0.9178],\n",
              "         [ 0.9650, -0.1420],\n",
              "         [-0.2868, -0.3212],\n",
              "         [-0.3638,  0.6065],\n",
              "         [-1.5730, -1.2857]]), tensor([[4.8795],\n",
              "         [9.3461],\n",
              "         [8.3233],\n",
              "         [4.1373],\n",
              "         [0.9494],\n",
              "         [6.7777],\n",
              "         [6.6184],\n",
              "         [4.7188],\n",
              "         [1.4086],\n",
              "         [5.4145]])]"
            ]
          },
          "metadata": {},
          "execution_count": 102
        }
      ]
    },
    {
      "cell_type": "code",
      "source": [
        "from torch import nn\n",
        "net = nn.Sequential(nn.Linear(2, 1))"
      ],
      "metadata": {
        "id": "J0h-k2CgAOPd"
      },
      "execution_count": 103,
      "outputs": []
    },
    {
      "cell_type": "code",
      "source": [
        "net[0].weight.data.normal_(0, 0.01)\n",
        "net[0].bias.data.fill_(0)"
      ],
      "metadata": {
        "colab": {
          "base_uri": "https://localhost:8080/"
        },
        "id": "4SYjR_RtAPv6",
        "outputId": "0467f3c9-359e-4e22-e14f-c1c4005c617c"
      },
      "execution_count": 104,
      "outputs": [
        {
          "output_type": "execute_result",
          "data": {
            "text/plain": [
              "tensor([0.])"
            ]
          },
          "metadata": {},
          "execution_count": 104
        }
      ]
    },
    {
      "cell_type": "code",
      "source": [
        "net[0].weight"
      ],
      "metadata": {
        "colab": {
          "base_uri": "https://localhost:8080/"
        },
        "id": "xFzVUeAeB_-5",
        "outputId": "84f62790-99da-4ff3-848f-d2e0db6f09db"
      },
      "execution_count": 105,
      "outputs": [
        {
          "output_type": "execute_result",
          "data": {
            "text/plain": [
              "Parameter containing:\n",
              "tensor([[-0.0044, -0.0184]], requires_grad=True)"
            ]
          },
          "metadata": {},
          "execution_count": 105
        }
      ]
    },
    {
      "cell_type": "code",
      "source": [
        "net[0].bias"
      ],
      "metadata": {
        "colab": {
          "base_uri": "https://localhost:8080/"
        },
        "id": "rG07SDZ0CKM7",
        "outputId": "9c1d87bd-6905-4602-888a-f46e68c20c83"
      },
      "execution_count": 106,
      "outputs": [
        {
          "output_type": "execute_result",
          "data": {
            "text/plain": [
              "Parameter containing:\n",
              "tensor([0.], requires_grad=True)"
            ]
          },
          "metadata": {},
          "execution_count": 106
        }
      ]
    },
    {
      "cell_type": "code",
      "source": [
        "loss = nn.MSELoss()"
      ],
      "metadata": {
        "id": "Dpv7aB0DCNQD"
      },
      "execution_count": 107,
      "outputs": []
    },
    {
      "cell_type": "code",
      "source": [
        "trainer = torch.optim.SGD(net.parameters(), lr=0.03)"
      ],
      "metadata": {
        "id": "bFKZt52KCYCw"
      },
      "execution_count": 108,
      "outputs": []
    },
    {
      "cell_type": "code",
      "source": [
        "num_epochs = 5\n",
        "for epoch in range(num_epochs):\n",
        "  for X, y in data_iter:\n",
        "    l = loss(net(X), y)\n",
        "    trainer.zero_grad()\n",
        "    l.backward()\n",
        "    trainer.step()\n",
        "  l = loss(net(features), labels)\n",
        "  print(f'epoch {epoch + 1}, loss {l:f}')"
      ],
      "metadata": {
        "colab": {
          "base_uri": "https://localhost:8080/"
        },
        "id": "9MyJ1qFgDkia",
        "outputId": "4e00af80-54b6-4a90-9e05-09ee3dfaa7a5"
      },
      "execution_count": 109,
      "outputs": [
        {
          "output_type": "stream",
          "name": "stdout",
          "text": [
            "epoch 1, loss 0.000321\n",
            "epoch 2, loss 0.000106\n",
            "epoch 3, loss 0.000106\n",
            "epoch 4, loss 0.000105\n",
            "epoch 5, loss 0.000106\n"
          ]
        }
      ]
    },
    {
      "cell_type": "code",
      "source": [
        "w = net[0].weight.data\n",
        "print('error in estimating w:', true_w - w.reshape(true_w.shape))\n",
        "b = net[0].bias.data\n",
        "print('error in estimating b:', true_b - b)"
      ],
      "metadata": {
        "colab": {
          "base_uri": "https://localhost:8080/"
        },
        "id": "2U4pNjQRFYA3",
        "outputId": "2cb58d71-d682-4cd7-ffd0-989adf91656e"
      },
      "execution_count": 110,
      "outputs": [
        {
          "output_type": "stream",
          "name": "stdout",
          "text": [
            "error in estimating w: tensor([ 7.5459e-05, -6.3944e-04])\n",
            "error in estimating b: tensor([0.0007])\n"
          ]
        }
      ]
    }
  ]
}