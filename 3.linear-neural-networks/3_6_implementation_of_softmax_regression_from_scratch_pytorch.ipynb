{
  "nbformat": 4,
  "nbformat_minor": 0,
  "metadata": {
    "colab": {
      "name": "3.6.implementation_of_softmax_regression_from_\u001dscratch_pytorch.ipynb",
      "provenance": [],
      "collapsed_sections": [],
      "authorship_tag": "ABX9TyOv48vMVIw69BSxqUNiqMvm",
      "include_colab_link": true
    },
    "kernelspec": {
      "name": "python3",
      "display_name": "Python 3"
    },
    "language_info": {
      "name": "python"
    }
  },
  "cells": [
    {
      "cell_type": "markdown",
      "metadata": {
        "id": "view-in-github",
        "colab_type": "text"
      },
      "source": [
        "<a href=\"https://colab.research.google.com/github/thai94/d2l/blob/main/3.linear-neural-networks/3_6_implementation_of_softmax_regression_from_%1Dscratch_pytorch.ipynb\" target=\"_parent\"><img src=\"https://colab.research.google.com/assets/colab-badge.svg\" alt=\"Open In Colab\"/></a>"
      ]
    },
    {
      "cell_type": "code",
      "execution_count": 155,
      "metadata": {
        "id": "LKWBwi_RuHva"
      },
      "outputs": [],
      "source": [
        "import torch\n",
        "from IPython import display\n",
        "import torch\n",
        "import torchvision\n",
        "from torch.utils import data\n",
        "from torchvision import transforms"
      ]
    },
    {
      "cell_type": "code",
      "source": [
        "def get_dataloader_workers():\n",
        "    \"\"\"Use 4 processes to read the data.\"\"\"\n",
        "    return 8"
      ],
      "metadata": {
        "id": "3kLqJevVwh-D"
      },
      "execution_count": 156,
      "outputs": []
    },
    {
      "cell_type": "code",
      "source": [
        "def load_data_fashion_mnist(batch_size, resize=None):\n",
        "    \"\"\"Download the Fashion-MNIST dataset and then load it into memory.\"\"\"\n",
        "    trans = [transforms.ToTensor()]\n",
        "    if resize:\n",
        "        trans.insert(0, transforms.Resize(resize))\n",
        "    trans = transforms.Compose(trans)\n",
        "    mnist_train = torchvision.datasets.FashionMNIST(\n",
        "        root=\"../data\", train=True, transform=trans, download=True)\n",
        "    mnist_test = torchvision.datasets.FashionMNIST(\n",
        "        root=\"../data\", train=False, transform=trans, download=True)\n",
        "    return (data.DataLoader(mnist_train, batch_size, shuffle=True,\n",
        "                            num_workers=get_dataloader_workers()),\n",
        "            data.DataLoader(mnist_test, batch_size, shuffle=False,\n",
        "                            num_workers=get_dataloader_workers()))"
      ],
      "metadata": {
        "id": "-uOBCG5DwMdu"
      },
      "execution_count": 157,
      "outputs": []
    },
    {
      "cell_type": "code",
      "source": [
        "batch_size = 256\n",
        "train_iter, test_iter = load_data_fashion_mnist(batch_size)"
      ],
      "metadata": {
        "colab": {
          "base_uri": "https://localhost:8080/"
        },
        "id": "yZK5MfPwwUB-",
        "outputId": "0bb9909e-4425-44e7-8380-faf989ad2bbc"
      },
      "execution_count": 158,
      "outputs": [
        {
          "output_type": "stream",
          "name": "stderr",
          "text": [
            "/usr/local/lib/python3.7/dist-packages/torch/utils/data/dataloader.py:481: UserWarning: This DataLoader will create 8 worker processes in total. Our suggested max number of worker in current system is 2, which is smaller than what this DataLoader is going to create. Please be aware that excessive worker creation might get DataLoader running slow or even freeze, lower the worker number to avoid potential slowness/freeze if necessary.\n",
            "  cpuset_checked))\n"
          ]
        }
      ]
    },
    {
      "cell_type": "code",
      "source": [
        "num_inputs = 784\n",
        "num_outputs = 10\n",
        "\n",
        "W = torch.normal(0, 0.01, size=(num_inputs, num_outputs), requires_grad=True)\n",
        "b = torch.zeros(num_outputs, requires_grad=True)"
      ],
      "metadata": {
        "id": "nfF7eVL-wYfN"
      },
      "execution_count": 159,
      "outputs": []
    },
    {
      "cell_type": "code",
      "source": [
        "def softmax(X):\n",
        "  X_exp = torch.exp(X)\n",
        "  partition = X_exp.sum(1, keepdim=True)\n",
        "  return X_exp/partition"
      ],
      "metadata": {
        "id": "MSX-2emc0Pif"
      },
      "execution_count": 160,
      "outputs": []
    },
    {
      "cell_type": "code",
      "source": [
        "X = torch.normal(0, 1, (2, 5))\n",
        "X_prob = softmax(X)\n",
        "X_prob, X_prob.sum(1)"
      ],
      "metadata": {
        "colab": {
          "base_uri": "https://localhost:8080/"
        },
        "id": "HB9JCbUF1K2W",
        "outputId": "30b7f4e5-a56e-4d58-c520-a35968239dc6"
      },
      "execution_count": 161,
      "outputs": [
        {
          "output_type": "execute_result",
          "data": {
            "text/plain": [
              "(tensor([[0.3293, 0.0453, 0.4958, 0.1138, 0.0157],\n",
              "         [0.0143, 0.8970, 0.0544, 0.0175, 0.0169]]), tensor([1., 1.]))"
            ]
          },
          "metadata": {},
          "execution_count": 161
        }
      ]
    },
    {
      "cell_type": "code",
      "source": [
        "X"
      ],
      "metadata": {
        "colab": {
          "base_uri": "https://localhost:8080/"
        },
        "id": "h-rCXOJj1UYI",
        "outputId": "9e17e8d2-69a7-4212-d0f7-cb69dd76d46e"
      },
      "execution_count": 162,
      "outputs": [
        {
          "output_type": "execute_result",
          "data": {
            "text/plain": [
              "tensor([[ 0.8983, -1.0850,  1.3075, -0.1643, -2.1444],\n",
              "        [-1.0595,  3.0798,  0.2766, -0.8588, -0.8942]])"
            ]
          },
          "metadata": {},
          "execution_count": 162
        }
      ]
    },
    {
      "cell_type": "code",
      "source": [
        "def net(X):\n",
        "  return softmax(torch.matmul(X.reshape((-1, num_inputs)), W) + b)"
      ],
      "metadata": {
        "id": "I82HcMMf1ai8"
      },
      "execution_count": 163,
      "outputs": []
    },
    {
      "cell_type": "code",
      "source": [
        "y = torch.tensor([0, 2])\n",
        "y_hat = torch.tensor([[0.1, 0.3, 0.6], [0.3, 0.2, 0.5]])\n",
        "y_hat[[0, 1], y]"
      ],
      "metadata": {
        "colab": {
          "base_uri": "https://localhost:8080/"
        },
        "id": "ThPL7N5RjcVH",
        "outputId": "09bc9353-c1d2-436a-9999-ddc343a0aa3c"
      },
      "execution_count": 164,
      "outputs": [
        {
          "output_type": "execute_result",
          "data": {
            "text/plain": [
              "tensor([0.1000, 0.5000])"
            ]
          },
          "metadata": {},
          "execution_count": 164
        }
      ]
    },
    {
      "cell_type": "code",
      "source": [
        "def cross_entropy(y_hat, y):\n",
        "  return - torch.log(y_hat[range(len(y_hat)), y])"
      ],
      "metadata": {
        "id": "bta--HKo7s4C"
      },
      "execution_count": 165,
      "outputs": []
    },
    {
      "cell_type": "code",
      "source": [
        "def accuracy(y_hat, y):\n",
        "  if len(y_hat.shape) > 1 and y_hat.shape[1] > 1:\n",
        "    y_hat = y_hat.argmax(axis=1)\n",
        "  cmp = y_hat.type(y.dtype) == y\n",
        "  return float(cmp.type(y.dtype).sum())"
      ],
      "metadata": {
        "id": "xV7ZM3nT742Z"
      },
      "execution_count": 166,
      "outputs": []
    },
    {
      "cell_type": "code",
      "source": [
        "accuracy(y_hat, y) / len(y)"
      ],
      "metadata": {
        "id": "M63A8sgi74-M",
        "colab": {
          "base_uri": "https://localhost:8080/"
        },
        "outputId": "a9a70f4d-d474-433c-a3e7-e4fd7ebdd53e"
      },
      "execution_count": 167,
      "outputs": [
        {
          "output_type": "execute_result",
          "data": {
            "text/plain": [
              "0.5"
            ]
          },
          "metadata": {},
          "execution_count": 167
        }
      ]
    },
    {
      "cell_type": "code",
      "source": [
        "class Accumulator:\n",
        "  def __init__(self, n):\n",
        "    self.data = [0.0] * n\n",
        "  \n",
        "  def add(self, *args):\n",
        "    self.data = [a + float(b) for a,b in zip(self.data, args)]\n",
        "\n",
        "  def reset(self):\n",
        "    self.data = [0.0] * len(self.data)\n",
        "    \n",
        "  def __getitem__(self, idx):\n",
        "    return self.data[idx]"
      ],
      "metadata": {
        "id": "Od0UAFztlmpi"
      },
      "execution_count": 168,
      "outputs": []
    },
    {
      "cell_type": "code",
      "source": [
        "def evaluate_accuracy(net, data_iter):\n",
        "  metric = Accumulator(2)\n",
        "  with torch.no_grad():\n",
        "    for X, y in data_iter:\n",
        "      metric.add(accuracy(net(X), y), y.numel())\n",
        "  return metric[0] / metric[1]"
      ],
      "metadata": {
        "id": "YvKjCSOqj4KG"
      },
      "execution_count": 169,
      "outputs": []
    },
    {
      "cell_type": "code",
      "source": [
        "evaluate_accuracy(net, test_iter)"
      ],
      "metadata": {
        "colab": {
          "base_uri": "https://localhost:8080/"
        },
        "id": "UewJGlnxl0lb",
        "outputId": "8aa40405-7f5f-4b14-eecd-e6e15ac71515"
      },
      "execution_count": 170,
      "outputs": [
        {
          "output_type": "stream",
          "name": "stderr",
          "text": [
            "/usr/local/lib/python3.7/dist-packages/torch/utils/data/dataloader.py:481: UserWarning: This DataLoader will create 8 worker processes in total. Our suggested max number of worker in current system is 2, which is smaller than what this DataLoader is going to create. Please be aware that excessive worker creation might get DataLoader running slow or even freeze, lower the worker number to avoid potential slowness/freeze if necessary.\n",
            "  cpuset_checked))\n"
          ]
        },
        {
          "output_type": "execute_result",
          "data": {
            "text/plain": [
              "0.1086"
            ]
          },
          "metadata": {},
          "execution_count": 170
        }
      ]
    },
    {
      "cell_type": "code",
      "source": [
        "def train_epoch_ch3(net, train_iter, loss, updater):\n",
        "  metric = Accumulator(3)\n",
        "  for X, y in train_iter:\n",
        "    y_hat = net(X)\n",
        "    l = loss(y_hat, y)\n",
        "    l.sum().backward()\n",
        "    updater(X.shape[0])\n",
        "  metric.add(float(l.sum()), accuracy(y_hat, y), y.numel())\n",
        "  return metric[0] / metric[2], metric[1] / metric[2]"
      ],
      "metadata": {
        "id": "O02aU1k6rX8f"
      },
      "execution_count": 171,
      "outputs": []
    },
    {
      "cell_type": "code",
      "source": [
        "def train_ch3(net, train_iter, test_iter, loss, num_epochs, updater):\n",
        "\n",
        "  for epoch in range(num_epochs):\n",
        "    train_metrics = train_epoch_ch3(net, train_iter, loss, updater)\n",
        "    test_acc = evaluate_accuracy(net, test_iter)\n",
        "    print('epoch: %s' % epoch)\n",
        "    print(train_metrics)\n",
        "    print(test_acc)\n",
        "  \n",
        "  train_loss, train_acc = train_metrics\n",
        "  assert train_loss < 0.5, train_loss\n",
        "  assert train_acc <= 1 and train_acc > 0.7, train_acc\n",
        "  assert test_acc <= 1 and test_acc > 0.7, test_acc"
      ],
      "metadata": {
        "id": "jjMPUSnQLUZP"
      },
      "execution_count": 172,
      "outputs": []
    },
    {
      "cell_type": "code",
      "source": [
        "def sgd(params, lr, batch_size):\n",
        "    with torch.no_grad():\n",
        "        for param in params:\n",
        "            param -= lr * param.grad / batch_size\n",
        "            param.grad.zero_()"
      ],
      "metadata": {
        "id": "s-taqqvMNd37"
      },
      "execution_count": 173,
      "outputs": []
    },
    {
      "cell_type": "code",
      "source": [
        "lr = 0.1\n",
        "def updater(batch_size):\n",
        "    return sgd([W, b], lr, batch_size)"
      ],
      "metadata": {
        "id": "YVjzTxRgNSlm"
      },
      "execution_count": 174,
      "outputs": []
    },
    {
      "cell_type": "code",
      "source": [
        "num_epochs = 10\n",
        "train_ch3(net, train_iter, test_iter, cross_entropy, num_epochs, updater)"
      ],
      "metadata": {
        "colab": {
          "base_uri": "https://localhost:8080/"
        },
        "id": "w-yESLnVNkMY",
        "outputId": "04a7e882-4472-4edc-9ac2-5c24fabff9ea"
      },
      "execution_count": 175,
      "outputs": [
        {
          "output_type": "stream",
          "name": "stderr",
          "text": [
            "/usr/local/lib/python3.7/dist-packages/torch/utils/data/dataloader.py:481: UserWarning: This DataLoader will create 8 worker processes in total. Our suggested max number of worker in current system is 2, which is smaller than what this DataLoader is going to create. Please be aware that excessive worker creation might get DataLoader running slow or even freeze, lower the worker number to avoid potential slowness/freeze if necessary.\n",
            "  cpuset_checked))\n"
          ]
        },
        {
          "output_type": "stream",
          "name": "stdout",
          "text": [
            "epoch: 0\n",
            "(0.6225115060806274, 0.7916666666666666)\n",
            "0.7724\n",
            "epoch: 1\n",
            "(0.4663444360097249, 0.8541666666666666)\n",
            "0.7941\n",
            "epoch: 2\n",
            "(0.45891443888346356, 0.84375)\n",
            "0.8196\n",
            "epoch: 3\n",
            "(0.6520735025405884, 0.7604166666666666)\n",
            "0.8212\n",
            "epoch: 4\n",
            "(0.4318745930989583, 0.8333333333333334)\n",
            "0.827\n",
            "epoch: 5\n",
            "(0.465431014696757, 0.84375)\n",
            "0.8132\n",
            "epoch: 6\n",
            "(0.3612331549326579, 0.90625)\n",
            "0.8273\n",
            "epoch: 7\n",
            "(0.32048139969507855, 0.8854166666666666)\n",
            "0.8272\n",
            "epoch: 8\n",
            "(0.3889477650324504, 0.84375)\n",
            "0.815\n",
            "epoch: 9\n",
            "(0.4193052848180135, 0.84375)\n",
            "0.8312\n"
          ]
        }
      ]
    },
    {
      "cell_type": "code",
      "source": [
        "for X, y in test_iter:\n",
        "  break"
      ],
      "metadata": {
        "colab": {
          "base_uri": "https://localhost:8080/"
        },
        "id": "cYYANYV6Z0fc",
        "outputId": "07da4fd2-e3e2-4a5a-8a67-3167047b4db7"
      },
      "execution_count": 178,
      "outputs": [
        {
          "output_type": "stream",
          "name": "stderr",
          "text": [
            "/usr/local/lib/python3.7/dist-packages/torch/utils/data/dataloader.py:481: UserWarning: This DataLoader will create 8 worker processes in total. Our suggested max number of worker in current system is 2, which is smaller than what this DataLoader is going to create. Please be aware that excessive worker creation might get DataLoader running slow or even freeze, lower the worker number to avoid potential slowness/freeze if necessary.\n",
            "  cpuset_checked))\n"
          ]
        }
      ]
    },
    {
      "cell_type": "code",
      "source": [
        "net(X).argmax(axis=1) == y"
      ],
      "metadata": {
        "colab": {
          "base_uri": "https://localhost:8080/"
        },
        "id": "nOOR9hpXaQYv",
        "outputId": "ebfd1b78-020d-4e3e-e389-e2a7da9a3914"
      },
      "execution_count": 188,
      "outputs": [
        {
          "output_type": "execute_result",
          "data": {
            "text/plain": [
              "tensor([ True,  True,  True,  True,  True,  True,  True,  True,  True,  True,\n",
              "         True,  True, False,  True,  True,  True,  True, False,  True,  True,\n",
              "        False, False,  True, False,  True, False,  True,  True,  True, False,\n",
              "         True,  True,  True,  True,  True,  True,  True,  True,  True,  True,\n",
              "        False,  True, False,  True,  True,  True, False,  True,  True, False,\n",
              "        False, False,  True, False,  True,  True,  True,  True,  True,  True,\n",
              "         True,  True,  True,  True,  True,  True, False, False, False,  True,\n",
              "         True,  True, False,  True,  True,  True,  True,  True,  True,  True,\n",
              "         True,  True,  True,  True,  True,  True,  True,  True,  True,  True,\n",
              "         True,  True,  True,  True,  True,  True,  True,  True, False,  True,\n",
              "         True,  True,  True, False,  True,  True,  True,  True,  True,  True,\n",
              "         True,  True,  True,  True,  True,  True,  True, False,  True,  True,\n",
              "         True,  True,  True,  True,  True,  True,  True,  True,  True,  True,\n",
              "         True,  True,  True,  True,  True, False, False,  True,  True,  True,\n",
              "         True,  True,  True,  True,  True,  True,  True, False,  True, False,\n",
              "        False, False,  True, False,  True,  True,  True,  True,  True,  True,\n",
              "         True,  True,  True,  True,  True,  True,  True,  True,  True,  True,\n",
              "        False,  True,  True,  True,  True,  True,  True,  True,  True,  True,\n",
              "         True,  True,  True, False,  True,  True,  True,  True,  True,  True,\n",
              "         True,  True,  True,  True,  True,  True,  True,  True,  True,  True,\n",
              "         True,  True,  True,  True,  True,  True,  True,  True,  True,  True,\n",
              "         True,  True,  True,  True,  True,  True,  True,  True,  True, False,\n",
              "         True,  True, False,  True,  True,  True,  True, False,  True,  True,\n",
              "         True,  True,  True,  True,  True,  True,  True,  True,  True, False,\n",
              "         True, False,  True, False, False,  True,  True,  True, False, False,\n",
              "         True,  True, False,  True,  True, False])"
            ]
          },
          "metadata": {},
          "execution_count": 188
        }
      ]
    },
    {
      "cell_type": "code",
      "source": [
        ""
      ],
      "metadata": {
        "id": "E8zh07gAatgX"
      },
      "execution_count": null,
      "outputs": []
    }
  ]
}