{
  "nbformat": 4,
  "nbformat_minor": 0,
  "metadata": {
    "colab": {
      "name": "3.2.linear_regression_implementation_from_scratch_tensorflow.ipynb",
      "provenance": [],
      "collapsed_sections": [],
      "authorship_tag": "ABX9TyNRsbD1iS/DpoaZ8rsw+/qa",
      "include_colab_link": true
    },
    "kernelspec": {
      "name": "python3",
      "display_name": "Python 3"
    },
    "language_info": {
      "name": "python"
    }
  },
  "cells": [
    {
      "cell_type": "markdown",
      "metadata": {
        "id": "view-in-github",
        "colab_type": "text"
      },
      "source": [
        "<a href=\"https://colab.research.google.com/github/thai94/d2l/blob/main/3.linear-neural-networks/3_2_linear_regression_implementation_from_scratch_tensorflow.ipynb\" target=\"_parent\"><img src=\"https://colab.research.google.com/assets/colab-badge.svg\" alt=\"Open In Colab\"/></a>"
      ]
    },
    {
      "cell_type": "code",
      "execution_count": 1,
      "metadata": {
        "id": "PueXyPmrfPfO"
      },
      "outputs": [],
      "source": [
        "import random\n",
        "import tensorflow as tf"
      ]
    },
    {
      "cell_type": "code",
      "source": [
        "def synthetic_data(w, b, num_examples):\n",
        "  \"\"\"Generate y = Xw + b + noise.\"\"\"\n",
        "  X = tf.zeros((num_examples, w.shape[0]))\n",
        "  X += tf.random.normal(shape=X.shape)\n",
        "  y = tf.matmul(X, tf.reshape(w, (-1,1))) + b\n",
        "  y += tf.random.normal(shape=y.shape, stddev=0.01)\n",
        "  return X, tf.reshape(y, (-1,1))"
      ],
      "metadata": {
        "id": "ReKr21bsf4pN"
      },
      "execution_count": 28,
      "outputs": []
    },
    {
      "cell_type": "code",
      "source": [
        "true_w = tf.constant([2, -3.4])\n",
        "true_b = 4.2\n",
        "features, labels = synthetic_data(true_w, true_b, 1000)"
      ],
      "metadata": {
        "id": "QbmhS8i5goBs"
      },
      "execution_count": 29,
      "outputs": []
    },
    {
      "cell_type": "code",
      "source": [
        "print('features: ', features[0], '\\n label: ', labels[0])"
      ],
      "metadata": {
        "colab": {
          "base_uri": "https://localhost:8080/"
        },
        "id": "yD0pVcnqiimf",
        "outputId": "d74d6375-2520-4d00-f853-2373309e47ed"
      },
      "execution_count": 30,
      "outputs": [
        {
          "output_type": "stream",
          "name": "stdout",
          "text": [
            "features:  tf.Tensor([0.01878889 0.47237194], shape=(2,), dtype=float32) \n",
            " label:  tf.Tensor([2.62941], shape=(1,), dtype=float32)\n"
          ]
        }
      ]
    },
    {
      "cell_type": "code",
      "source": [
        "import matplotlib.pyplot as plt\n",
        "\n",
        "plt.scatter(features[:, 1], labels[:, 0])\n",
        "plt.show()"
      ],
      "metadata": {
        "colab": {
          "base_uri": "https://localhost:8080/",
          "height": 264
        },
        "id": "v1zO6mofiyPj",
        "outputId": "4639a6e8-688b-40f4-be3c-a6af6c091f43"
      },
      "execution_count": 31,
      "outputs": [
        {
          "output_type": "display_data",
          "data": {
            "image/png": "[encoded data removed]",
            "text/plain": [
              "<Figure size 432x288 with 1 Axes>"
            ]
          },
          "metadata": {
            "needs_background": "light"
          }
        }
      ]
    },
    {
      "cell_type": "code",
      "source": [
        "def data_iter(batch_size, features, labels):\n",
        "  num_examples = len(features)\n",
        "  indices = list(range(num_examples))\n",
        "  random.shuffle(indices)\n",
        "  for i in range(0, num_examples, batch_size):\n",
        "    batch_indices = tf.constant(indices[i:min(i + batch_size, num_examples)])\n",
        "    yield tf.gather(features, batch_indices), tf.gather(labels, batch_indices)"
      ],
      "metadata": {
        "id": "VWCrXcRyi_m_"
      },
      "execution_count": 32,
      "outputs": []
    },
    {
      "cell_type": "code",
      "source": [
        "batch_size = 10\n",
        "for X, y in data_iter(batch_size, features, labels):\n",
        "  print(X, '\\n', y)\n",
        "  break"
      ],
      "metadata": {
        "colab": {
          "base_uri": "https://localhost:8080/"
        },
        "id": "r9-kZdNNm-Q3",
        "outputId": "5015ede4-3943-44f4-eeb8-3cf5814631fa"
      },
      "execution_count": 33,
      "outputs": [
        {
          "output_type": "stream",
          "name": "stdout",
          "text": [
            "tf.Tensor(\n",
            "[[ 0.54342085 -0.856755  ]\n",
            " [-0.6457123   0.14984855]\n",
            " [ 0.02323383 -0.76414454]\n",
            " [ 1.1477833   1.520387  ]\n",
            " [-0.9176653  -0.10302742]\n",
            " [-1.7968208  -0.08933223]\n",
            " [-1.6531655  -0.25863275]\n",
            " [ 1.1658405   0.06637857]\n",
            " [-1.009345    0.2671858 ]\n",
            " [ 0.7570174  -1.2749861 ]], shape=(10, 2), dtype=float32) \n",
            " tf.Tensor(\n",
            "[[ 8.213012  ]\n",
            " [ 2.4095318 ]\n",
            " [ 6.851566  ]\n",
            " [ 1.3291513 ]\n",
            " [ 2.7041771 ]\n",
            " [ 0.90186924]\n",
            " [ 1.7699664 ]\n",
            " [ 6.3104978 ]\n",
            " [ 1.2661213 ]\n",
            " [10.022358  ]], shape=(10, 1), dtype=float32)\n"
          ]
        }
      ]
    },
    {
      "cell_type": "code",
      "source": [
        "w = tf.Variable(tf.random.normal(shape=(2, 1), mean=0, stddev=0.01), trainable=True)\n",
        "b = tf.Variable(tf.zeros(1), trainable=True)"
      ],
      "metadata": {
        "id": "MRsLcgp5nPhx"
      },
      "execution_count": 35,
      "outputs": []
    },
    {
      "cell_type": "code",
      "source": [
        "def linreg(X, w, b):\n",
        "  return tf.matmul(X, w) + b"
      ],
      "metadata": {
        "id": "D2Z-_z93sEvR"
      },
      "execution_count": 36,
      "outputs": []
    },
    {
      "cell_type": "code",
      "source": [
        "def squared_loss(y_hat, y):\n",
        "  return (y_hat - tf.reshape(y, y_hat.shape)) ** 2 / 2"
      ],
      "metadata": {
        "id": "SK03hPiZ-Lc9"
      },
      "execution_count": 37,
      "outputs": []
    },
    {
      "cell_type": "code",
      "source": [
        "def sgd(params, grads, lr, batch_size):\n",
        "  for param, grad in zip(params, grads):\n",
        "    param.assign_sub(lr * grad/batch_size)"
      ],
      "metadata": {
        "id": "GARfN9-m-gfi"
      },
      "execution_count": 38,
      "outputs": []
    },
    {
      "cell_type": "code",
      "source": [
        "lr = 0.03\n",
        "num_epochs = 3\n",
        "net = linreg\n",
        "loss = squared_loss\n",
        "\n",
        "for epoch in range(num_epochs):\n",
        "  for X, y in data_iter(batch_size, features, labels):\n",
        "    with tf.GradientTape() as g:\n",
        "      l = loss(net(X, w, b), y)\n",
        "      dw, db = g.gradient(l, [w, b])\n",
        "    sgd([w, b], [dw, db], lr, batch_size)\n",
        "  train_l = loss(net(features, w, b), labels)\n",
        "  print(f'epoch {epoch + 1}, loss {float(tf.reduce_mean(train_l)):f}')"
      ],
      "metadata": {
        "colab": {
          "base_uri": "https://localhost:8080/"
        },
        "id": "oUPQYb9j-9wP",
        "outputId": "07ad49ce-9ed2-4ce9-d174-15bb7d357e87"
      },
      "execution_count": 41,
      "outputs": [
        {
          "output_type": "stream",
          "name": "stdout",
          "text": [
            "epoch 1, loss 0.000050\n",
            "epoch 2, loss 0.000050\n",
            "epoch 3, loss 0.000050\n"
          ]
        }
      ]
    },
    {
      "cell_type": "code",
      "source": [
        "print(f'error in estimating w: {true_w - tf.reshape(w, true_w.shape)}')\n",
        "print(f'error in estimating b: {true_b - b}')"
      ],
      "metadata": {
        "colab": {
          "base_uri": "https://localhost:8080/"
        },
        "id": "xvEPnhakBP3U",
        "outputId": "7b381655-a956-4e08-b5bc-64f079a0cdb0"
      },
      "execution_count": 42,
      "outputs": [
        {
          "output_type": "stream",
          "name": "stdout",
          "text": [
            "error in estimating w: [ 2.683401e-04 -8.225441e-05]\n",
            "error in estimating b: [0.00045681]\n"
          ]
        }
      ]
    }
  ]
}