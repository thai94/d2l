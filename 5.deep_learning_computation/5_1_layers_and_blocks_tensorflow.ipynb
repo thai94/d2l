{
  "nbformat": 4,
  "nbformat_minor": 0,
  "metadata": {
    "colab": {
      "name": "5.1.layers_and_blocks_tensorflow.ipynb",
      "provenance": [],
      "collapsed_sections": [],
      "authorship_tag": "ABX9TyPmPlElnzb0PnRKoAOTx0lE",
      "include_colab_link": true
    },
    "kernelspec": {
      "name": "python3",
      "display_name": "Python 3"
    },
    "language_info": {
      "name": "python"
    }
  },
  "cells": [
    {
      "cell_type": "markdown",
      "metadata": {
        "id": "view-in-github",
        "colab_type": "text"
      },
      "source": [
        "<a href=\"https://colab.research.google.com/github/thai94/d2l/blob/main/5.deep_learning_computation/5_1_layers_and_blocks_tensorflow.ipynb\" target=\"_parent\"><img src=\"https://colab.research.google.com/assets/colab-badge.svg\" alt=\"Open In Colab\"/></a>"
      ]
    },
    {
      "cell_type": "code",
      "execution_count": 27,
      "metadata": {
        "id": "8NaP8MEk-Bst"
      },
      "outputs": [],
      "source": [
        "import tensorflow as tf"
      ]
    },
    {
      "cell_type": "code",
      "source": [
        "class MLP(tf.keras.Model):\n",
        "\n",
        "  def __init__(self):\n",
        "    \n",
        "    super().__init__()\n",
        "    self.hidden = tf.keras.layers.Dense(units=256, activation=tf.nn.relu)\n",
        "    self.out = tf.keras.layers.Dense(units=10)\n",
        "  \n",
        "  def call(self, X):\n",
        "\n",
        "    return self.out(self.hidden(X))"
      ],
      "metadata": {
        "id": "9K6wiGzE-gWe"
      },
      "execution_count": 28,
      "outputs": []
    },
    {
      "cell_type": "code",
      "source": [
        "net = MLP()\n",
        "\n",
        "X = tf.random.uniform((2, 20))\n",
        "net(X)"
      ],
      "metadata": {
        "colab": {
          "base_uri": "https://localhost:8080/"
        },
        "id": "Xiof3nqP_gI5",
        "outputId": "551a49ba-5e59-4618-aa2f-dd2d8827aca1"
      },
      "execution_count": 29,
      "outputs": [
        {
          "output_type": "execute_result",
          "data": {
            "text/plain": [
              "<tf.Tensor: shape=(2, 10), dtype=float32, numpy=\n",
              "array([[-0.13604157, -0.40128654, -0.02873796, -0.1430833 ,  0.23163673,\n",
              "         0.03409789,  0.36398298, -0.23955639, -0.36443013,  0.01839301],\n",
              "       [-0.16784005, -0.44619405, -0.1423726 , -0.02055031,  0.3056544 ,\n",
              "        -0.02499595,  0.3686195 , -0.08003469, -0.25312567,  0.08006692]],\n",
              "      dtype=float32)>"
            ]
          },
          "metadata": {},
          "execution_count": 29
        }
      ]
    },
    {
      "cell_type": "code",
      "source": [
        "class MySequential(tf.keras.Model):\n",
        "\n",
        "  def __init__(self, *args):\n",
        "    super().__init__()\n",
        "    self.modules = []\n",
        "    for block in args:\n",
        "      self.modules.append(block)\n",
        "\n",
        "  def call(self, X):\n",
        "    for module in self.modules:\n",
        "      X = module(X)\n",
        "    return X"
      ],
      "metadata": {
        "id": "HmO00lRx_z5m"
      },
      "execution_count": 30,
      "outputs": []
    },
    {
      "cell_type": "code",
      "source": [
        "net = MySequential(\n",
        "    tf.keras.layers.Dense(units=256, activation=tf.nn.relu),\n",
        "    tf.keras.layers.Dense(10))\n",
        "net(X)"
      ],
      "metadata": {
        "colab": {
          "base_uri": "https://localhost:8080/"
        },
        "id": "ean2IxHPAhQu",
        "outputId": "78af376a-144e-4fa2-b56b-a490487ba2dd"
      },
      "execution_count": 31,
      "outputs": [
        {
          "output_type": "execute_result",
          "data": {
            "text/plain": [
              "<tf.Tensor: shape=(2, 10), dtype=float32, numpy=\n",
              "array([[-0.09877494, -0.0742365 , -0.0236119 , -0.24790406,  0.14509954,\n",
              "        -0.17161751, -0.00129081, -0.20132582, -0.04455721, -0.18625884],\n",
              "       [ 0.03813782, -0.03675562,  0.09200394, -0.24980783,  0.05050098,\n",
              "        -0.13002515,  0.08048572, -0.18704483, -0.27378413, -0.29266283]],\n",
              "      dtype=float32)>"
            ]
          },
          "metadata": {},
          "execution_count": 31
        }
      ]
    },
    {
      "cell_type": "code",
      "source": [
        "class FixedHiddenMLP(tf.keras.Model):\n",
        "  def __init__(self):\n",
        "    super().__init__()\n",
        "    self.flatten = tf.keras.layers.Flatten()\n",
        "    self.rand_weight = tf.constant(tf.random.uniform((20, 20)))\n",
        "    self.dense = tf.keras.layers.Dense(20, activation=tf.nn.relu)\n",
        "\n",
        "  def call(self, inputs):\n",
        "    X = self.flatten(inputs)\n",
        "    X = tf.nn.relu(tf.matmul(X, self.rand_weight) + 1)\n",
        "    X = self.dense(X)\n",
        "    while tf.reduce_sum(tf.math.abs(X)) > 1:\n",
        "      X /= 2\n",
        "    return tf.reduce_sum(X)"
      ],
      "metadata": {
        "id": "jerFjU5MAuAU"
      },
      "execution_count": 32,
      "outputs": []
    },
    {
      "cell_type": "code",
      "source": [
        "net = FixedHiddenMLP()\n",
        "net(X)"
      ],
      "metadata": {
        "colab": {
          "base_uri": "https://localhost:8080/"
        },
        "id": "3keYMFIxCh8D",
        "outputId": "04c19746-29cc-477a-8222-0c40638611f8"
      },
      "execution_count": 33,
      "outputs": [
        {
          "output_type": "execute_result",
          "data": {
            "text/plain": [
              "<tf.Tensor: shape=(), dtype=float32, numpy=0.5036471>"
            ]
          },
          "metadata": {},
          "execution_count": 33
        }
      ]
    },
    {
      "cell_type": "code",
      "source": [
        "class NestMLP(tf.keras.Model):\n",
        "  \n",
        "  def __init__(self):\n",
        "    super().__init__()\n",
        "    self.net = tf.keras.Sequential()\n",
        "    self.net.add(tf.keras.layers.Dense(64, activation=tf.nn.relu))\n",
        "    self.net.add(tf.keras.layers.Dense(32, activation=tf.nn.relu))\n",
        "    self.dense = tf.keras.layers.Dense(16, activation=tf.nn.relu)\n",
        "  def call(self, inputs):\n",
        "    return self.dense(self.net(inputs))"
      ],
      "metadata": {
        "id": "wMH0_2KgCnha"
      },
      "execution_count": 34,
      "outputs": []
    },
    {
      "cell_type": "code",
      "source": [
        "chimera = tf.keras.Sequential()\n",
        "chimera.add(NestMLP())\n",
        "chimera.add(tf.keras.layers.Dense(20))\n",
        "chimera.add(FixedHiddenMLP())\n",
        "chimera(X)"
      ],
      "metadata": {
        "colab": {
          "base_uri": "https://localhost:8080/"
        },
        "id": "wf3yI0GYDMls",
        "outputId": "596d15bb-4ab5-4dbe-8350-d5f2376c78b9"
      },
      "execution_count": 35,
      "outputs": [
        {
          "output_type": "execute_result",
          "data": {
            "text/plain": [
              "<tf.Tensor: shape=(), dtype=float32, numpy=0.6944176>"
            ]
          },
          "metadata": {},
          "execution_count": 35
        }
      ]
    }
  ]
}