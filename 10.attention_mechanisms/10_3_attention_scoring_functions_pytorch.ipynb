{
  "nbformat": 4,
  "nbformat_minor": 0,
  "metadata": {
    "colab": {
      "name": "10.3.attention_scoring_functions_pytorch.ipynb",
      "provenance": [],
      "collapsed_sections": [],
      "authorship_tag": "ABX9TyONM7dOmVq6bNM96LTulC4s",
      "include_colab_link": true
    },
    "kernelspec": {
      "name": "python3",
      "display_name": "Python 3"
    },
    "language_info": {
      "name": "python"
    }
  },
  "cells": [
    {
      "cell_type": "markdown",
      "metadata": {
        "id": "view-in-github",
        "colab_type": "text"
      },
      "source": [
        "<a href=\"https://colab.research.google.com/github/thai94/d2l/blob/main/10.attention_mechanisms/10_3_attention_scoring_functions_pytorch.ipynb\" target=\"_parent\"><img src=\"https://colab.research.google.com/assets/colab-badge.svg\" alt=\"Open In Colab\"/></a>"
      ]
    },
    {
      "cell_type": "code",
      "execution_count": 24,
      "metadata": {
        "id": "1lOhYzQLJLKr"
      },
      "outputs": [],
      "source": [
        "import math\n",
        "import torch\n",
        "from torch import nn"
      ]
    },
    {
      "cell_type": "code",
      "source": [
        "def sequence_mask(X, valid_len, value=0):\n",
        "\n",
        "  maxlen = X.size(1)\n",
        "  mask = torch.arange((maxlen), dtype=torch.float32, device=X.device)[None, :] < valid_len[:, None]\n",
        "  X[~mask] = value\n",
        "  return X"
      ],
      "metadata": {
        "id": "rVheZIJeKf3V"
      },
      "execution_count": 25,
      "outputs": []
    },
    {
      "cell_type": "code",
      "source": [
        "def masked_softmax(X, valid_lens):\n",
        "\n",
        "  if valid_lens is None:\n",
        "    return nn.functional.softmax(X, dim=-1)\n",
        "  \n",
        "  shape = X.shape\n",
        "  if valid_lens.dim() == 1:\n",
        "    valid_lens = torch.repeat_interleave(valid_lens, shape[1])\n",
        "  else:\n",
        "    valid_lens = valid_lens.reshape(-1)\n",
        "  X = sequence_mask(X.reshape(-1, shape[-1]), valid_lens,\n",
        "                              value=-1e6)\n",
        "  return nn.functional.softmax(X.reshape(shape), dim=-1)"
      ],
      "metadata": {
        "id": "Dsn-gy3zJYFs"
      },
      "execution_count": 26,
      "outputs": []
    },
    {
      "cell_type": "code",
      "source": [
        "masked_softmax(torch.rand(2, 2, 4), torch.tensor([2, 3]))"
      ],
      "metadata": {
        "colab": {
          "base_uri": "https://localhost:8080/"
        },
        "id": "i7-pO_tbMoov",
        "outputId": "c0c92130-2ad7-46c0-afd6-ea6120a90846"
      },
      "execution_count": 27,
      "outputs": [
        {
          "output_type": "execute_result",
          "data": {
            "text/plain": [
              "tensor([[[0.4661, 0.5339, 0.0000, 0.0000],\n",
              "         [0.5988, 0.4012, 0.0000, 0.0000]],\n",
              "\n",
              "        [[0.3728, 0.2808, 0.3463, 0.0000],\n",
              "         [0.4424, 0.2788, 0.2788, 0.0000]]])"
            ]
          },
          "metadata": {},
          "execution_count": 27
        }
      ]
    },
    {
      "cell_type": "code",
      "source": [
        "masked_softmax(torch.rand(2, 2, 4), torch.tensor([[1, 3], [2, 4]]))"
      ],
      "metadata": {
        "colab": {
          "base_uri": "https://localhost:8080/"
        },
        "id": "SlLzbgJyM262",
        "outputId": "566626c5-56e4-4af3-dcbd-de76798ad370"
      },
      "execution_count": 28,
      "outputs": [
        {
          "output_type": "execute_result",
          "data": {
            "text/plain": [
              "tensor([[[1.0000, 0.0000, 0.0000, 0.0000],\n",
              "         [0.2331, 0.2616, 0.5053, 0.0000]],\n",
              "\n",
              "        [[0.3763, 0.6237, 0.0000, 0.0000],\n",
              "         [0.1642, 0.4026, 0.2194, 0.2139]]])"
            ]
          },
          "metadata": {},
          "execution_count": 28
        }
      ]
    },
    {
      "cell_type": "code",
      "source": [
        "class AdditiveAttention(nn.Module):\n",
        "\n",
        "  def __init__(self, key_size, query_size, num_hiddens, dropout, **kwargs):\n",
        "    super(AdditiveAttention, self).__init__(**kwargs)\n",
        "    self.W_k = nn.Linear(key_size, num_hiddens, bias=False)\n",
        "    self.W_q = nn.Linear(query_size, num_hiddens, bias=False)\n",
        "    self.w_v = nn.Linear(num_hiddens, 1, bias=False)\n",
        "    self.dropout = nn.Dropout(dropout)\n",
        "\n",
        "  def forward(self, queries, keys, values, valid_lens):\n",
        "\n",
        "    queries, keys = self.W_q(queries), self.W_k(keys)\n",
        "    # queries shape: batch_size, no. of queries, num_hiddens\n",
        "    # key shape: batch_size, no. of key-value pairs, num_hiddens\n",
        "\n",
        "    # shape of `queries`: (`batch_size`, no. of queries, 1, num_hiddens)\n",
        "    # key shape:          (batch_size, 1, no. of key-value pairs, num_hiddens)\n",
        "    features = queries.unsqueeze(2) + keys.unsqueeze(1)\n",
        "    features = torch.tanh(features)\n",
        "    # scores: (`batch_size`, no. of queries, no. of key-value pairs)\n",
        "    scores = self.w_v(features).squeeze(-1)\n",
        "    self.attention_weights = masked_softmax(scores, valid_lens)\n",
        "\n",
        "    ret = torch.bmm(self.dropout(self.attention_weights), values)\n",
        "\n",
        "    print(queries.shape)\n",
        "    print(keys.shape)\n",
        "    print(features.shape)\n",
        "    print(scores.shape)\n",
        "    print(self.attention_weights.shape)\n",
        "    print(ret.shape)\n",
        "\n",
        "    return ret\n"
      ],
      "metadata": {
        "id": "kI3PMLo7SGTU"
      },
      "execution_count": 29,
      "outputs": []
    },
    {
      "cell_type": "code",
      "source": [
        "queries, keys = torch.normal(0, 1, (2, 1, 20)), torch.ones((2, 10, 2))\n",
        "# The two value matrices in the `values` minibatch are identical\n",
        "values = torch.arange(40, dtype=torch.float32).reshape(1, 10, 4).repeat(\n",
        "    2, 1, 1)\n",
        "valid_lens = torch.tensor([2, 6])\n",
        "\n",
        "attention = AdditiveAttention(key_size=2, query_size=20, num_hiddens=8,\n",
        "                              dropout=0.1)\n",
        "attention.eval()\n",
        "attention(queries, keys, values, valid_lens)"
      ],
      "metadata": {
        "colab": {
          "base_uri": "https://localhost:8080/"
        },
        "id": "-po2aX8CYkZZ",
        "outputId": "9be5bd27-e65d-4625-e243-e7bf95d1883b"
      },
      "execution_count": 30,
      "outputs": [
        {
          "output_type": "stream",
          "name": "stdout",
          "text": [
            "torch.Size([2, 1, 8])\n",
            "torch.Size([2, 10, 8])\n",
            "torch.Size([2, 1, 10, 8])\n",
            "torch.Size([2, 1, 10])\n",
            "torch.Size([2, 1, 10])\n",
            "torch.Size([2, 1, 4])\n"
          ]
        },
        {
          "output_type": "execute_result",
          "data": {
            "text/plain": [
              "tensor([[[ 2.0000,  3.0000,  4.0000,  5.0000]],\n",
              "\n",
              "        [[10.0000, 11.0000, 12.0000, 13.0000]]], grad_fn=<BmmBackward0>)"
            ]
          },
          "metadata": {},
          "execution_count": 30
        }
      ]
    },
    {
      "cell_type": "code",
      "source": [
        "class DotProductAttention(nn.Module):\n",
        "\n",
        "  def __init__(self, dropout, **kwargs):\n",
        "    super(DotProductAttention, self).__init__(**kwargs)\n",
        "    self.dropout = nn.Dropout(dropout)\n",
        "\n",
        "  def forward(self, queries, keys, values, valid_lens=None):\n",
        "\n",
        "    d = queries.shape[-1]\n",
        "    scores = torch.bmm(queries, keys.transpose(1, 2)) / math.sqrt(d)\n",
        "    self.attention_weights = masked_softmax(scores, valid_lens)\n",
        "    return torch.bmm(self.dropout(self.attention_weights), values)"
      ],
      "metadata": {
        "id": "DlTSRDqes94W"
      },
      "execution_count": 31,
      "outputs": []
    },
    {
      "cell_type": "code",
      "source": [
        "queries = torch.normal(0, 1, (2, 1, 2))\n",
        "attention = DotProductAttention(dropout=0.5)\n",
        "attention.eval()\n",
        "attention(queries, keys, values, valid_lens)"
      ],
      "metadata": {
        "colab": {
          "base_uri": "https://localhost:8080/"
        },
        "id": "-UDCwDRKxbNS",
        "outputId": "5ea3cbf8-b098-42ca-f458-d72ec42f6622"
      },
      "execution_count": 32,
      "outputs": [
        {
          "output_type": "execute_result",
          "data": {
            "text/plain": [
              "tensor([[[ 2.0000,  3.0000,  4.0000,  5.0000]],\n",
              "\n",
              "        [[10.0000, 11.0000, 12.0000, 13.0000]]])"
            ]
          },
          "metadata": {},
          "execution_count": 32
        }
      ]
    }
  ]
}