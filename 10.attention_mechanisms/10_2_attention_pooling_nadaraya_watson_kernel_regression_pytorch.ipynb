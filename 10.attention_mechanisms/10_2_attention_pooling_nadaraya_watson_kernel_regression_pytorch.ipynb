{
  "nbformat": 4,
  "nbformat_minor": 0,
  "metadata": {
    "colab": {
      "name": "10.2.attention_pooling_nadaraya_watson_kernel_regression_pytorch.ipynb",
      "provenance": [],
      "collapsed_sections": [],
      "authorship_tag": "ABX9TyN7f/NAW7I5eJyHM7kPMoaP",
      "include_colab_link": true
    },
    "kernelspec": {
      "name": "python3",
      "display_name": "Python 3"
    },
    "language_info": {
      "name": "python"
    }
  },
  "cells": [
    {
      "cell_type": "markdown",
      "metadata": {
        "id": "view-in-github",
        "colab_type": "text"
      },
      "source": [
        "<a href=\"https://colab.research.google.com/github/thai94/d2l/blob/main/10.attention_mechanisms/10_2_attention_pooling_nadaraya_watson_kernel_regression_pytorch.ipynb\" target=\"_parent\"><img src=\"https://colab.research.google.com/assets/colab-badge.svg\" alt=\"Open In Colab\"/></a>"
      ]
    },
    {
      "cell_type": "code",
      "execution_count": null,
      "metadata": {
        "id": "AvfmVvBsvFwq"
      },
      "outputs": [],
      "source": [
        "import torch\n",
        "from torch import nn\n",
        "import matplotlib.pyplot as plt"
      ]
    },
    {
      "cell_type": "code",
      "source": [
        "n_train = 50\n",
        "x_train, _ = torch.sort(torch.rand(n_train) * 5)"
      ],
      "metadata": {
        "id": "8J8yax3uvtqb"
      },
      "execution_count": null,
      "outputs": []
    },
    {
      "cell_type": "code",
      "source": [
        "x_train[0:10]"
      ],
      "metadata": {
        "colab": {
          "base_uri": "https://localhost:8080/"
        },
        "id": "LcwJx8ZEv0uK",
        "outputId": "1b49a186-3bf7-486f-911a-c5942c2d6207"
      },
      "execution_count": null,
      "outputs": [
        {
          "output_type": "execute_result",
          "data": {
            "text/plain": [
              "tensor([0.0086, 0.0570, 0.1215, 0.1240, 0.1742, 0.4642, 0.4758, 0.6877, 0.8254,\n",
              "        1.0354])"
            ]
          },
          "metadata": {},
          "execution_count": 92
        }
      ]
    },
    {
      "cell_type": "code",
      "source": [
        "def f(x):\n",
        "  return 2 * torch.sin(x) + x**0.8\n",
        "\n",
        "y_train = f(x_train) + torch.normal(0.0, 0.5, (n_train,))\n",
        "x_test = torch.arange(0, 5, 0.1)\n",
        "y_truth = f(x_test)\n",
        "\n",
        "n_test = len(x_test)\n",
        "n_test"
      ],
      "metadata": {
        "colab": {
          "base_uri": "https://localhost:8080/"
        },
        "id": "t5xD-bGjw1mJ",
        "outputId": "1f5f8f2d-4226-47ff-dc94-3b35ecdcbeb4"
      },
      "execution_count": null,
      "outputs": [
        {
          "output_type": "execute_result",
          "data": {
            "text/plain": [
              "50"
            ]
          },
          "metadata": {},
          "execution_count": 93
        }
      ]
    },
    {
      "cell_type": "code",
      "source": [
        "def plot_kernel_reg(y_hat):\n",
        "    plt.plot(x_test, y_truth, label='Truth')\n",
        "    plt.plot(x_test, y_hat, label='Pred')\n",
        "    plt.plot(x_train, y_train, 'o', alpha=0.5, label='Train');\n",
        "    plt.legend()"
      ],
      "metadata": {
        "id": "pZqrrqH5xN2n"
      },
      "execution_count": null,
      "outputs": []
    },
    {
      "cell_type": "code",
      "source": [
        "y_hat = torch.repeat_interleave(y_train.mean(), n_test)\n",
        "plot_kernel_reg(y_hat)"
      ],
      "metadata": {
        "colab": {
          "base_uri": "https://localhost:8080/",
          "height": 265
        },
        "id": "Y2Dl06aYx0gz",
        "outputId": "50521853-714b-42d9-d3e5-0b8683cc8d71"
      },
      "execution_count": null,
      "outputs": [
        {
          "output_type": "display_data",
          "data": {
            "image/png": "[encoded data removed]",
            "text/plain": [
              "<Figure size 432x288 with 1 Axes>"
            ]
          },
          "metadata": {
            "needs_background": "light"
          }
        }
      ]
    },
    {
      "cell_type": "code",
      "source": [
        "X_repeat = x_test.repeat_interleave(n_train).reshape((-1, n_train))\n",
        "X_repeat"
      ],
      "metadata": {
        "id": "2eRzojKozo1J",
        "colab": {
          "base_uri": "https://localhost:8080/"
        },
        "outputId": "f5226584-07a5-41f7-995d-aecf50bfd90a"
      },
      "execution_count": null,
      "outputs": [
        {
          "output_type": "execute_result",
          "data": {
            "text/plain": [
              "tensor([[0.0000, 0.0000, 0.0000,  ..., 0.0000, 0.0000, 0.0000],\n",
              "        [0.1000, 0.1000, 0.1000,  ..., 0.1000, 0.1000, 0.1000],\n",
              "        [0.2000, 0.2000, 0.2000,  ..., 0.2000, 0.2000, 0.2000],\n",
              "        ...,\n",
              "        [4.7000, 4.7000, 4.7000,  ..., 4.7000, 4.7000, 4.7000],\n",
              "        [4.8000, 4.8000, 4.8000,  ..., 4.8000, 4.8000, 4.8000],\n",
              "        [4.9000, 4.9000, 4.9000,  ..., 4.9000, 4.9000, 4.9000]])"
            ]
          },
          "metadata": {},
          "execution_count": 96
        }
      ]
    },
    {
      "cell_type": "code",
      "source": [
        "x_train"
      ],
      "metadata": {
        "colab": {
          "base_uri": "https://localhost:8080/"
        },
        "id": "8cYXsgxqEwbT",
        "outputId": "8a74bff6-42fe-43e9-f556-4686d6de58d4"
      },
      "execution_count": null,
      "outputs": [
        {
          "output_type": "execute_result",
          "data": {
            "text/plain": [
              "tensor([0.0086, 0.0570, 0.1215, 0.1240, 0.1742, 0.4642, 0.4758, 0.6877, 0.8254,\n",
              "        1.0354, 1.0670, 1.1041, 1.1074, 1.1287, 1.1727, 1.2288, 1.3145, 1.3891,\n",
              "        1.4349, 1.5050, 1.5209, 1.6845, 1.8358, 2.0022, 2.1086, 2.1872, 2.2110,\n",
              "        2.3974, 2.5096, 2.5913, 2.6254, 2.8547, 2.9162, 3.0923, 3.1924, 3.3861,\n",
              "        3.6086, 3.6882, 3.7783, 3.8458, 3.9294, 3.9733, 3.9864, 4.0475, 4.2016,\n",
              "        4.4271, 4.4612, 4.5528, 4.6774, 4.9498])"
            ]
          },
          "metadata": {},
          "execution_count": 97
        }
      ]
    },
    {
      "cell_type": "code",
      "source": [
        "attention_weights = nn.functional.softmax(-(X_repeat - x_train)**2 / 2, dim=1)\n",
        "attention_weights.shape"
      ],
      "metadata": {
        "colab": {
          "base_uri": "https://localhost:8080/"
        },
        "id": "ywu8rMJUFQVV",
        "outputId": "01535b03-49d7-4698-8552-04a3f7978bae"
      },
      "execution_count": null,
      "outputs": [
        {
          "output_type": "execute_result",
          "data": {
            "text/plain": [
              "torch.Size([50, 50])"
            ]
          },
          "metadata": {},
          "execution_count": 98
        }
      ]
    },
    {
      "cell_type": "code",
      "source": [
        "attention_weights[0]"
      ],
      "metadata": {
        "colab": {
          "base_uri": "https://localhost:8080/"
        },
        "id": "3vrLGfamHJ9Q",
        "outputId": "aff9aea2-9908-405a-fb84-309777b9d606"
      },
      "execution_count": null,
      "outputs": [
        {
          "output_type": "execute_result",
          "data": {
            "text/plain": [
              "tensor([6.7275e-02, 6.7168e-02, 6.6782e-02, 6.6762e-02, 6.6265e-02, 6.0405e-02,\n",
              "        6.0078e-02, 5.3110e-02, 4.7857e-02, 3.9362e-02, 3.8077e-02, 3.6572e-02,\n",
              "        3.6438e-02, 3.5582e-02, 3.3827e-02, 3.1621e-02, 2.8357e-02, 2.5635e-02,\n",
              "        2.4032e-02, 2.1679e-02, 2.1164e-02, 1.6282e-02, 1.2474e-02, 9.0643e-03,\n",
              "        7.2845e-03, 6.1531e-03, 5.8385e-03, 3.8006e-03, 2.8856e-03, 2.3428e-03,\n",
              "        2.1433e-03, 1.1436e-03, 9.5776e-04, 5.6420e-04, 4.1188e-04, 2.1786e-04,\n",
              "        1.0004e-04, 7.4833e-05, 5.3447e-05, 4.1329e-05, 2.9857e-05, 2.5104e-05,\n",
              "        2.3832e-05, 1.8642e-05, 9.8719e-06, 3.7319e-06, 3.2067e-06, 2.1230e-06,\n",
              "        1.1941e-06, 3.2182e-07])"
            ]
          },
          "metadata": {},
          "execution_count": 99
        }
      ]
    },
    {
      "cell_type": "code",
      "source": [
        "attention_weights[1]"
      ],
      "metadata": {
        "colab": {
          "base_uri": "https://localhost:8080/"
        },
        "id": "3LFZEDQOHMzA",
        "outputId": "e058df0c-7d03-4f27-9c10-c6aceee5f784"
      },
      "execution_count": null,
      "outputs": [
        {
          "output_type": "execute_result",
          "data": {
            "text/plain": [
              "tensor([6.2238e-02, 6.2441e-02, 6.2484e-02, 6.2481e-02, 6.2327e-02, 5.8487e-02,\n",
              "        5.8238e-02, 5.2586e-02, 4.8041e-02, 4.0353e-02, 3.9159e-02, 3.7751e-02,\n",
              "        3.7625e-02, 3.6820e-02, 3.5158e-02, 3.3050e-02, 2.9894e-02, 2.7227e-02,\n",
              "        2.5641e-02, 2.3293e-02, 2.2776e-02, 1.7811e-02, 1.3854e-02, 1.0236e-02,\n",
              "        8.3139e-03, 7.0780e-03, 6.7322e-03, 4.4648e-03, 3.4281e-03, 2.8061e-03,\n",
              "        2.5759e-03, 1.4063e-03, 1.1850e-03, 7.1049e-04, 5.2389e-04, 2.8253e-04,\n",
              "        1.3266e-04, 1.0002e-04, 7.2084e-05, 5.6118e-05, 4.0881e-05, 3.4524e-05,\n",
              "        3.2818e-05, 2.5829e-05, 1.3890e-05, 5.3706e-06, 4.6305e-06, 3.0938e-06,\n",
              "        1.7619e-06, 4.8798e-07])"
            ]
          },
          "metadata": {},
          "execution_count": 100
        }
      ]
    },
    {
      "cell_type": "code",
      "source": [
        "y_hat = torch.matmul(attention_weights, y_train)"
      ],
      "metadata": {
        "id": "qFBwUcN4JKTP"
      },
      "execution_count": null,
      "outputs": []
    },
    {
      "cell_type": "code",
      "source": [
        "plot_kernel_reg(y_hat)"
      ],
      "metadata": {
        "colab": {
          "base_uri": "https://localhost:8080/",
          "height": 265
        },
        "id": "U1-TkdlaJMsf",
        "outputId": "a116fc23-cacc-474f-a4f1-8cf88664857d"
      },
      "execution_count": null,
      "outputs": [
        {
          "output_type": "display_data",
          "data": {
            "image/png": "[encoded data removed]",
            "text/plain": [
              "<Figure size 432x288 with 1 Axes>"
            ]
          },
          "metadata": {
            "needs_background": "light"
          }
        }
      ]
    },
    {
      "cell_type": "code",
      "source": [
        "torch.rand((1,))"
      ],
      "metadata": {
        "id": "0P-bP_Gk4DUH",
        "outputId": "c94b6661-77ba-4886-ab68-d2017e0d98f2",
        "colab": {
          "base_uri": "https://localhost:8080/"
        }
      },
      "execution_count": null,
      "outputs": [
        {
          "output_type": "execute_result",
          "data": {
            "text/plain": [
              "tensor([0.0671])"
            ]
          },
          "metadata": {},
          "execution_count": 103
        }
      ]
    },
    {
      "cell_type": "code",
      "source": [
        "class NWKernelRegression(nn.Module):\n",
        "\n",
        "  def __init__(self, **kwargs):\n",
        "    super().__init__(**kwargs)\n",
        "    self.w = nn.Parameter(torch.rand((1,), requires_grad=True))\n",
        "  \n",
        "  def forward(self, queries, keys, values):\n",
        "\n",
        "    queries = queries.repeat_interleave(keys.shape[1]).reshape((-1, keys.shape[1]))\n",
        "    self.attention_weights = nn.functional.softmax(-((queries - keys) * self.w)**2 / 2, dim=1)\n",
        "    return torch.bmm(self.attention_weights.unsqueeze(1), values.unsqueeze(-1)).reshape(-1)"
      ],
      "metadata": {
        "id": "dKq4D8dA0Vuq"
      },
      "execution_count": null,
      "outputs": []
    },
    {
      "cell_type": "code",
      "source": [
        "X_tile = x_train.repeat((n_train, 1))\n",
        "Y_tile = y_train.repeat((n_train, 1))\n",
        "keys = X_tile[(1 - torch.eye(n_train)).type(torch.bool)].reshape((n_train, -1))\n",
        "values = Y_tile[(1 - torch.eye(n_train)).type(torch.bool)].reshape((n_train, -1))"
      ],
      "metadata": {
        "id": "znPs0IkgJ04s"
      },
      "execution_count": null,
      "outputs": []
    },
    {
      "cell_type": "code",
      "source": [
        "net = NWKernelRegression()\n",
        "loss = nn.MSELoss(reduction='none')\n",
        "trainer = torch.optim.SGD(net.parameters(), lr=0.5)"
      ],
      "metadata": {
        "id": "WyRDtOb9Od0x"
      },
      "execution_count": null,
      "outputs": []
    },
    {
      "cell_type": "code",
      "source": [
        "x_ui = []\n",
        "y_ui = []\n",
        "for epoch in range(5):\n",
        "  trainer.zero_grad()\n",
        "  l = loss(net(x_train, keys, values), y_train)\n",
        "  l.sum().backward()\n",
        "  trainer.step()\n",
        "  print(f'epoch {epoch + 1}, loss {float(l.sum()):.6f}')\n",
        "  x_ui.append(epoch + 1)\n",
        "  y_ui.append(float(l.sum()))\n",
        "\n",
        "plt.plot(x_ui, y_ui)"
      ],
      "metadata": {
        "colab": {
          "base_uri": "https://localhost:8080/",
          "height": 371
        },
        "id": "2q47i01TOoyS",
        "outputId": "ed4b0d10-19ac-49fe-bfd2-e176f9b5aac2"
      },
      "execution_count": null,
      "outputs": [
        {
          "output_type": "stream",
          "name": "stdout",
          "text": [
            "epoch 1, loss 58.410706\n",
            "epoch 2, loss 17.785561\n",
            "epoch 3, loss 17.770006\n",
            "epoch 4, loss 17.754431\n",
            "epoch 5, loss 17.738857\n"
          ]
        },
        {
          "output_type": "execute_result",
          "data": {
            "text/plain": [
              "[<matplotlib.lines.Line2D at 0x7fda04c2a6d0>]"
            ]
          },
          "metadata": {},
          "execution_count": 107
        },
        {
          "output_type": "display_data",
          "data": {
            "image/png": "[encoded data removed]",
            "text/plain": [
              "<Figure size 432x288 with 1 Axes>"
            ]
          },
          "metadata": {
            "needs_background": "light"
          }
        }
      ]
    },
    {
      "cell_type": "code",
      "source": [
        "keys = x_train.repeat((n_test, 1))\n",
        "values = y_train.repeat((n_test, 1))\n",
        "y_hat = net(torch.tensor([50]), keys, values).unsqueeze(1).detach()"
      ],
      "metadata": {
        "id": "WypwHpiCQcbS"
      },
      "execution_count": null,
      "outputs": []
    },
    {
      "cell_type": "code",
      "source": [
        "plot_kernel_reg(y_hat)"
      ],
      "metadata": {
        "colab": {
          "base_uri": "https://localhost:8080/",
          "height": 265
        },
        "id": "cYzXVXk7RBjn",
        "outputId": "092150a0-cd11-4c98-d95d-747a7296c00b"
      },
      "execution_count": null,
      "outputs": [
        {
          "output_type": "display_data",
          "data": {
            "image/png": "[encoded data removed]",
            "text/plain": [
              "<Figure size 432x288 with 1 Axes>"
            ]
          },
          "metadata": {
            "needs_background": "light"
          }
        }
      ]
    },
    {
      "cell_type": "code",
      "source": [
        "net.attention_weights"
      ],
      "metadata": {
        "colab": {
          "base_uri": "https://localhost:8080/"
        },
        "id": "v8Evr8P5S_bh",
        "outputId": "eaa76612-aa1f-49ab-a481-9bd581355f1d"
      },
      "execution_count": null,
      "outputs": [
        {
          "output_type": "execute_result",
          "data": {
            "text/plain": [
              "tensor([[4.4490e-01, 3.2628e-01, 1.0586e-01,  ..., 0.0000e+00, 0.0000e+00,\n",
              "         0.0000e+00],\n",
              "        [1.1755e-01, 2.2188e-01, 2.5402e-01,  ..., 0.0000e+00, 0.0000e+00,\n",
              "         0.0000e+00],\n",
              "        [1.2585e-02, 6.1142e-02, 2.4700e-01,  ..., 0.0000e+00, 0.0000e+00,\n",
              "         0.0000e+00],\n",
              "        ...,\n",
              "        [0.0000e+00, 0.0000e+00, 0.0000e+00,  ..., 1.1153e-01, 8.8220e-01,\n",
              "         2.0880e-03],\n",
              "        [0.0000e+00, 0.0000e+00, 0.0000e+00,  ..., 7.3991e-03, 6.6875e-01,\n",
              "         3.2381e-01],\n",
              "        [0.0000e+00, 0.0000e+00, 0.0000e+00,  ..., 9.6778e-06, 9.9941e-03,\n",
              "         9.9000e-01]], grad_fn=<SoftmaxBackward0>)"
            ]
          },
          "metadata": {},
          "execution_count": 110
        }
      ]
    }
  ]
}